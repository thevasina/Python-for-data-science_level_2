{
 "cells": [
  {
   "cell_type": "markdown",
   "metadata": {
    "papermill": {
     "duration": 0.079282,
     "end_time": "2021-04-04T08:14:19.008627",
     "exception": false,
     "start_time": "2021-04-04T08:14:18.929345",
     "status": "completed"
    },
    "tags": []
   },
   "source": [
    "### **Подключение библиотек и скриптов**"
   ]
  },
  {
   "cell_type": "code",
   "execution_count": 344,
   "metadata": {
    "execution": {
     "iopub.execute_input": "2021-04-04T08:14:19.171888Z",
     "iopub.status.busy": "2021-04-04T08:14:19.171210Z",
     "iopub.status.idle": "2021-04-04T08:14:21.168919Z",
     "shell.execute_reply": "2021-04-04T08:14:21.168085Z"
    },
    "papermill": {
     "duration": 2.083612,
     "end_time": "2021-04-04T08:14:21.169081",
     "exception": false,
     "start_time": "2021-04-04T08:14:19.085469",
     "status": "completed"
    },
    "tags": []
   },
   "outputs": [],
   "source": [
    "import numpy as np\n",
    "import pandas as pd\n",
    "\n",
    "import matplotlib.pyplot as plt\n",
    "import seaborn as sns\n",
    "%matplotlib inline\n",
    "\n",
    "from sklearn.tree import DecisionTreeClassifier\n",
    "from xgboost import XGBClassifier\n",
    "import catboost as catb\n",
    "from sklearn.model_selection import train_test_split, GridSearchCV\n",
    "from sklearn.metrics import (roc_auc_score, roc_curve, auc, confusion_matrix, \\\n",
    "                             accuracy_score, classification_report, plot_confusion_matrix, \\\n",
    "                             plot_precision_recall_curve, precision_recall_curve, recall_score,\n",
    "                             plot_roc_curve, f1_score)\n",
    "\n",
    "import warnings\n",
    "warnings.filterwarnings('ignore')"
   ]
  },
  {
   "cell_type": "code",
   "execution_count": 345,
   "metadata": {
    "execution": {
     "iopub.execute_input": "2021-04-04T08:14:21.328835Z",
     "iopub.status.busy": "2021-04-04T08:14:21.328125Z",
     "iopub.status.idle": "2021-04-04T08:14:21.335068Z",
     "shell.execute_reply": "2021-04-04T08:14:21.334374Z"
    },
    "papermill": {
     "duration": 0.087461,
     "end_time": "2021-04-04T08:14:21.335208",
     "exception": false,
     "start_time": "2021-04-04T08:14:21.247747",
     "status": "completed"
    },
    "tags": []
   },
   "outputs": [],
   "source": [
    "def evaluate_preds(model, X_train, X_valid, y_train, y_valid):\n",
    "    y_train_pred = model.predict(X_train)\n",
    "    y_valid_pred = model.predict(X_valid)\n",
    "    print(\"TRAIN\\n\", round(f1_score(y_train, y_train_pred), 3))\n",
    "    print(\"TEST\\n\", round(f1_score(y_valid, y_valid_pred), 3))\n",
    "    get_classification_report(y_train, y_train_pred, y_valid, y_valid_pred)"
   ]
  },
  {
   "cell_type": "code",
   "execution_count": 346,
   "metadata": {
    "execution": {
     "iopub.execute_input": "2021-04-04T08:14:21.493207Z",
     "iopub.status.busy": "2021-04-04T08:14:21.492537Z",
     "iopub.status.idle": "2021-04-04T08:14:21.496304Z",
     "shell.execute_reply": "2021-04-04T08:14:21.495721Z"
    },
    "papermill": {
     "duration": 0.085202,
     "end_time": "2021-04-04T08:14:21.496457",
     "exception": false,
     "start_time": "2021-04-04T08:14:21.411255",
     "status": "completed"
    },
    "tags": []
   },
   "outputs": [],
   "source": [
    "def get_classification_report(y_train_true, y_train_pred, y_valid_true, y_valid_pred):\n",
    "    print('TRAIN\\n\\n' + classification_report(y_train_true, y_train_pred))\n",
    "    print('VALID\\n\\n' + classification_report(y_valid_true, y_valid_pred))\n",
    "    print('CONFUSION MATRIX\\n')\n",
    "    print(pd.crosstab(y_valid_true, y_valid_pred))"
   ]
  },
  {
   "cell_type": "markdown",
   "metadata": {
    "papermill": {
     "duration": 0.076797,
     "end_time": "2021-04-04T08:14:21.650784",
     "exception": false,
     "start_time": "2021-04-04T08:14:21.573987",
     "status": "completed"
    },
    "tags": []
   },
   "source": [
    "### Обзор данных"
   ]
  },
  {
   "cell_type": "markdown",
   "metadata": {
    "papermill": {
     "duration": 0.076879,
     "end_time": "2021-04-04T08:14:21.804746",
     "exception": false,
     "start_time": "2021-04-04T08:14:21.727867",
     "status": "completed"
    },
    "tags": []
   },
   "source": [
    "**Описание датасета**\n",
    "\n",
    "* **Home Ownership** - домовладение\n",
    "* **Annual Income** - годовой доход\n",
    "* **Years in current job** - количество лет на текущем месте работы\n",
    "* **Tax Liens** - налоговые обременения\n",
    "* **Number of Open Accounts** - количество открытых счетов\n",
    "* **Years of Credit History** - количество лет кредитной истории\n",
    "* **Maximum Open Credit** - наибольший открытый кредит (максимальная сумма, которая когда-либо была доступна клиенту)\n",
    "* **Number of Credit Problems** - количество проблем с кредитом\n",
    "* **Months since last delinquent** - количество месяцев с последней просрочки платежа\n",
    "* **Bankruptcies** - банкротства\n",
    "* **Purpose** - цель кредита\n",
    "* **Term** - срок кредита\n",
    "* **Current Loan Amount** - текущая сумма кредита (сумма, которую еще предстоит выплатить клиенту)\n",
    "* **Current Credit Balance** - текущий кредитный баланс (сумма, которую может тратить клиент с кредитного счета)\n",
    "* **Monthly Debt** - ежемесячный долг\n",
    "* **Credit Score** - баллы кредитного рейтинга\n",
    "* **Credit Default** - факт невыполнения кредитных обязательств (0 - погашен вовремя, 1 - просрочка)"
   ]
  },
  {
   "cell_type": "markdown",
   "metadata": {
    "papermill": {
     "duration": 0.075722,
     "end_time": "2021-04-04T08:14:21.957286",
     "exception": false,
     "start_time": "2021-04-04T08:14:21.881564",
     "status": "completed"
    },
    "tags": []
   },
   "source": [
    "**Пути к директориям и файлам**"
   ]
  },
  {
   "cell_type": "code",
   "execution_count": 347,
   "metadata": {
    "execution": {
     "iopub.execute_input": "2021-04-04T08:14:22.114331Z",
     "iopub.status.busy": "2021-04-04T08:14:22.113644Z",
     "iopub.status.idle": "2021-04-04T08:14:22.119054Z",
     "shell.execute_reply": "2021-04-04T08:14:22.118521Z"
    },
    "papermill": {
     "duration": 0.085828,
     "end_time": "2021-04-04T08:14:22.119201",
     "exception": false,
     "start_time": "2021-04-04T08:14:22.033373",
     "status": "completed"
    },
    "tags": []
   },
   "outputs": [],
   "source": [
    "TRAIN_DATASET_PATH = '../Python-for-data-science_level_2/course_project_train.csv'\n",
    "TEST_DATASET_PATH = '../Python-for-data-science_level_2/course_project_test.csv'"
   ]
  },
  {
   "cell_type": "markdown",
   "metadata": {
    "papermill": {
     "duration": 0.076192,
     "end_time": "2021-04-04T08:14:22.274318",
     "exception": false,
     "start_time": "2021-04-04T08:14:22.198126",
     "status": "completed"
    },
    "tags": []
   },
   "source": [
    "**Загрузка данных**"
   ]
  },
  {
   "cell_type": "code",
   "execution_count": 348,
   "metadata": {
    "execution": {
     "iopub.execute_input": "2021-04-04T08:14:22.430897Z",
     "iopub.status.busy": "2021-04-04T08:14:22.430192Z",
     "iopub.status.idle": "2021-04-04T08:14:22.529577Z",
     "shell.execute_reply": "2021-04-04T08:14:22.528927Z"
    },
    "papermill": {
     "duration": 0.179415,
     "end_time": "2021-04-04T08:14:22.529711",
     "exception": false,
     "start_time": "2021-04-04T08:14:22.350296",
     "status": "completed"
    },
    "tags": []
   },
   "outputs": [
    {
     "data": {
      "text/html": [
       "<div>\n",
       "<style scoped>\n",
       "    .dataframe tbody tr th:only-of-type {\n",
       "        vertical-align: middle;\n",
       "    }\n",
       "\n",
       "    .dataframe tbody tr th {\n",
       "        vertical-align: top;\n",
       "    }\n",
       "\n",
       "    .dataframe thead th {\n",
       "        text-align: right;\n",
       "    }\n",
       "</style>\n",
       "<table border=\"1\" class=\"dataframe\">\n",
       "  <thead>\n",
       "    <tr style=\"text-align: right;\">\n",
       "      <th></th>\n",
       "      <th>Home Ownership</th>\n",
       "      <th>Annual Income</th>\n",
       "      <th>Years in current job</th>\n",
       "      <th>Tax Liens</th>\n",
       "      <th>Number of Open Accounts</th>\n",
       "      <th>Years of Credit History</th>\n",
       "      <th>Maximum Open Credit</th>\n",
       "      <th>Number of Credit Problems</th>\n",
       "      <th>Months since last delinquent</th>\n",
       "      <th>Bankruptcies</th>\n",
       "      <th>Purpose</th>\n",
       "      <th>Term</th>\n",
       "      <th>Current Loan Amount</th>\n",
       "      <th>Current Credit Balance</th>\n",
       "      <th>Monthly Debt</th>\n",
       "      <th>Credit Score</th>\n",
       "      <th>Credit Default</th>\n",
       "    </tr>\n",
       "  </thead>\n",
       "  <tbody>\n",
       "    <tr>\n",
       "      <th>0</th>\n",
       "      <td>Own Home</td>\n",
       "      <td>482087.0</td>\n",
       "      <td>NaN</td>\n",
       "      <td>0.0</td>\n",
       "      <td>11.0</td>\n",
       "      <td>26.3</td>\n",
       "      <td>685960.0</td>\n",
       "      <td>1.0</td>\n",
       "      <td>NaN</td>\n",
       "      <td>1.0</td>\n",
       "      <td>debt consolidation</td>\n",
       "      <td>Short Term</td>\n",
       "      <td>99999999.0</td>\n",
       "      <td>47386.0</td>\n",
       "      <td>7914.0</td>\n",
       "      <td>749.0</td>\n",
       "      <td>0</td>\n",
       "    </tr>\n",
       "    <tr>\n",
       "      <th>1</th>\n",
       "      <td>Own Home</td>\n",
       "      <td>1025487.0</td>\n",
       "      <td>10+ years</td>\n",
       "      <td>0.0</td>\n",
       "      <td>15.0</td>\n",
       "      <td>15.3</td>\n",
       "      <td>1181730.0</td>\n",
       "      <td>0.0</td>\n",
       "      <td>NaN</td>\n",
       "      <td>0.0</td>\n",
       "      <td>debt consolidation</td>\n",
       "      <td>Long Term</td>\n",
       "      <td>264968.0</td>\n",
       "      <td>394972.0</td>\n",
       "      <td>18373.0</td>\n",
       "      <td>737.0</td>\n",
       "      <td>1</td>\n",
       "    </tr>\n",
       "    <tr>\n",
       "      <th>2</th>\n",
       "      <td>Home Mortgage</td>\n",
       "      <td>751412.0</td>\n",
       "      <td>8 years</td>\n",
       "      <td>0.0</td>\n",
       "      <td>11.0</td>\n",
       "      <td>35.0</td>\n",
       "      <td>1182434.0</td>\n",
       "      <td>0.0</td>\n",
       "      <td>NaN</td>\n",
       "      <td>0.0</td>\n",
       "      <td>debt consolidation</td>\n",
       "      <td>Short Term</td>\n",
       "      <td>99999999.0</td>\n",
       "      <td>308389.0</td>\n",
       "      <td>13651.0</td>\n",
       "      <td>742.0</td>\n",
       "      <td>0</td>\n",
       "    </tr>\n",
       "    <tr>\n",
       "      <th>3</th>\n",
       "      <td>Own Home</td>\n",
       "      <td>805068.0</td>\n",
       "      <td>6 years</td>\n",
       "      <td>0.0</td>\n",
       "      <td>8.0</td>\n",
       "      <td>22.5</td>\n",
       "      <td>147400.0</td>\n",
       "      <td>1.0</td>\n",
       "      <td>NaN</td>\n",
       "      <td>1.0</td>\n",
       "      <td>debt consolidation</td>\n",
       "      <td>Short Term</td>\n",
       "      <td>121396.0</td>\n",
       "      <td>95855.0</td>\n",
       "      <td>11338.0</td>\n",
       "      <td>694.0</td>\n",
       "      <td>0</td>\n",
       "    </tr>\n",
       "    <tr>\n",
       "      <th>4</th>\n",
       "      <td>Rent</td>\n",
       "      <td>776264.0</td>\n",
       "      <td>8 years</td>\n",
       "      <td>0.0</td>\n",
       "      <td>13.0</td>\n",
       "      <td>13.6</td>\n",
       "      <td>385836.0</td>\n",
       "      <td>1.0</td>\n",
       "      <td>NaN</td>\n",
       "      <td>0.0</td>\n",
       "      <td>debt consolidation</td>\n",
       "      <td>Short Term</td>\n",
       "      <td>125840.0</td>\n",
       "      <td>93309.0</td>\n",
       "      <td>7180.0</td>\n",
       "      <td>719.0</td>\n",
       "      <td>0</td>\n",
       "    </tr>\n",
       "  </tbody>\n",
       "</table>\n",
       "</div>"
      ],
      "text/plain": [
       "  Home Ownership  Annual Income Years in current job  Tax Liens  \\\n",
       "0       Own Home       482087.0                  NaN        0.0   \n",
       "1       Own Home      1025487.0            10+ years        0.0   \n",
       "2  Home Mortgage       751412.0              8 years        0.0   \n",
       "3       Own Home       805068.0              6 years        0.0   \n",
       "4           Rent       776264.0              8 years        0.0   \n",
       "\n",
       "   Number of Open Accounts  Years of Credit History  Maximum Open Credit  \\\n",
       "0                     11.0                     26.3             685960.0   \n",
       "1                     15.0                     15.3            1181730.0   \n",
       "2                     11.0                     35.0            1182434.0   \n",
       "3                      8.0                     22.5             147400.0   \n",
       "4                     13.0                     13.6             385836.0   \n",
       "\n",
       "   Number of Credit Problems  Months since last delinquent  Bankruptcies  \\\n",
       "0                        1.0                           NaN           1.0   \n",
       "1                        0.0                           NaN           0.0   \n",
       "2                        0.0                           NaN           0.0   \n",
       "3                        1.0                           NaN           1.0   \n",
       "4                        1.0                           NaN           0.0   \n",
       "\n",
       "              Purpose        Term  Current Loan Amount  \\\n",
       "0  debt consolidation  Short Term           99999999.0   \n",
       "1  debt consolidation   Long Term             264968.0   \n",
       "2  debt consolidation  Short Term           99999999.0   \n",
       "3  debt consolidation  Short Term             121396.0   \n",
       "4  debt consolidation  Short Term             125840.0   \n",
       "\n",
       "   Current Credit Balance  Monthly Debt  Credit Score  Credit Default  \n",
       "0                 47386.0        7914.0         749.0               0  \n",
       "1                394972.0       18373.0         737.0               1  \n",
       "2                308389.0       13651.0         742.0               0  \n",
       "3                 95855.0       11338.0         694.0               0  \n",
       "4                 93309.0        7180.0         719.0               0  "
      ]
     },
     "execution_count": 348,
     "metadata": {},
     "output_type": "execute_result"
    }
   ],
   "source": [
    "df_train = pd.read_csv(TRAIN_DATASET_PATH)\n",
    "df_train.head()"
   ]
  },
  {
   "cell_type": "code",
   "execution_count": 349,
   "metadata": {
    "execution": {
     "iopub.execute_input": "2021-04-04T08:14:22.725045Z",
     "iopub.status.busy": "2021-04-04T08:14:22.724260Z",
     "iopub.status.idle": "2021-04-04T08:14:22.775185Z",
     "shell.execute_reply": "2021-04-04T08:14:22.775837Z"
    },
    "papermill": {
     "duration": 0.15304,
     "end_time": "2021-04-04T08:14:22.776007",
     "exception": false,
     "start_time": "2021-04-04T08:14:22.622967",
     "status": "completed"
    },
    "tags": []
   },
   "outputs": [
    {
     "data": {
      "text/html": [
       "<div>\n",
       "<style scoped>\n",
       "    .dataframe tbody tr th:only-of-type {\n",
       "        vertical-align: middle;\n",
       "    }\n",
       "\n",
       "    .dataframe tbody tr th {\n",
       "        vertical-align: top;\n",
       "    }\n",
       "\n",
       "    .dataframe thead th {\n",
       "        text-align: right;\n",
       "    }\n",
       "</style>\n",
       "<table border=\"1\" class=\"dataframe\">\n",
       "  <thead>\n",
       "    <tr style=\"text-align: right;\">\n",
       "      <th></th>\n",
       "      <th>Home Ownership</th>\n",
       "      <th>Annual Income</th>\n",
       "      <th>Years in current job</th>\n",
       "      <th>Tax Liens</th>\n",
       "      <th>Number of Open Accounts</th>\n",
       "      <th>Years of Credit History</th>\n",
       "      <th>Maximum Open Credit</th>\n",
       "      <th>Number of Credit Problems</th>\n",
       "      <th>Months since last delinquent</th>\n",
       "      <th>Bankruptcies</th>\n",
       "      <th>Purpose</th>\n",
       "      <th>Term</th>\n",
       "      <th>Current Loan Amount</th>\n",
       "      <th>Current Credit Balance</th>\n",
       "      <th>Monthly Debt</th>\n",
       "      <th>Credit Score</th>\n",
       "    </tr>\n",
       "  </thead>\n",
       "  <tbody>\n",
       "    <tr>\n",
       "      <th>0</th>\n",
       "      <td>Rent</td>\n",
       "      <td>NaN</td>\n",
       "      <td>4 years</td>\n",
       "      <td>0.0</td>\n",
       "      <td>9.0</td>\n",
       "      <td>12.5</td>\n",
       "      <td>220968.0</td>\n",
       "      <td>0.0</td>\n",
       "      <td>70.0</td>\n",
       "      <td>0.0</td>\n",
       "      <td>debt consolidation</td>\n",
       "      <td>Short Term</td>\n",
       "      <td>162470.0</td>\n",
       "      <td>105906.0</td>\n",
       "      <td>6813.0</td>\n",
       "      <td>NaN</td>\n",
       "    </tr>\n",
       "    <tr>\n",
       "      <th>1</th>\n",
       "      <td>Rent</td>\n",
       "      <td>231838.0</td>\n",
       "      <td>1 year</td>\n",
       "      <td>0.0</td>\n",
       "      <td>6.0</td>\n",
       "      <td>32.7</td>\n",
       "      <td>55946.0</td>\n",
       "      <td>0.0</td>\n",
       "      <td>8.0</td>\n",
       "      <td>0.0</td>\n",
       "      <td>educational expenses</td>\n",
       "      <td>Short Term</td>\n",
       "      <td>78298.0</td>\n",
       "      <td>46037.0</td>\n",
       "      <td>2318.0</td>\n",
       "      <td>699.0</td>\n",
       "    </tr>\n",
       "    <tr>\n",
       "      <th>2</th>\n",
       "      <td>Home Mortgage</td>\n",
       "      <td>1152540.0</td>\n",
       "      <td>3 years</td>\n",
       "      <td>0.0</td>\n",
       "      <td>10.0</td>\n",
       "      <td>13.7</td>\n",
       "      <td>204600.0</td>\n",
       "      <td>0.0</td>\n",
       "      <td>NaN</td>\n",
       "      <td>0.0</td>\n",
       "      <td>debt consolidation</td>\n",
       "      <td>Short Term</td>\n",
       "      <td>200178.0</td>\n",
       "      <td>146490.0</td>\n",
       "      <td>18729.0</td>\n",
       "      <td>7260.0</td>\n",
       "    </tr>\n",
       "    <tr>\n",
       "      <th>3</th>\n",
       "      <td>Home Mortgage</td>\n",
       "      <td>1220313.0</td>\n",
       "      <td>10+ years</td>\n",
       "      <td>0.0</td>\n",
       "      <td>16.0</td>\n",
       "      <td>17.0</td>\n",
       "      <td>456302.0</td>\n",
       "      <td>0.0</td>\n",
       "      <td>70.0</td>\n",
       "      <td>0.0</td>\n",
       "      <td>debt consolidation</td>\n",
       "      <td>Short Term</td>\n",
       "      <td>217382.0</td>\n",
       "      <td>213199.0</td>\n",
       "      <td>27559.0</td>\n",
       "      <td>739.0</td>\n",
       "    </tr>\n",
       "    <tr>\n",
       "      <th>4</th>\n",
       "      <td>Home Mortgage</td>\n",
       "      <td>2340952.0</td>\n",
       "      <td>6 years</td>\n",
       "      <td>0.0</td>\n",
       "      <td>11.0</td>\n",
       "      <td>23.6</td>\n",
       "      <td>1207272.0</td>\n",
       "      <td>0.0</td>\n",
       "      <td>NaN</td>\n",
       "      <td>0.0</td>\n",
       "      <td>debt consolidation</td>\n",
       "      <td>Long Term</td>\n",
       "      <td>777634.0</td>\n",
       "      <td>425391.0</td>\n",
       "      <td>42605.0</td>\n",
       "      <td>706.0</td>\n",
       "    </tr>\n",
       "  </tbody>\n",
       "</table>\n",
       "</div>"
      ],
      "text/plain": [
       "  Home Ownership  Annual Income Years in current job  Tax Liens  \\\n",
       "0           Rent            NaN              4 years        0.0   \n",
       "1           Rent       231838.0               1 year        0.0   \n",
       "2  Home Mortgage      1152540.0              3 years        0.0   \n",
       "3  Home Mortgage      1220313.0            10+ years        0.0   \n",
       "4  Home Mortgage      2340952.0              6 years        0.0   \n",
       "\n",
       "   Number of Open Accounts  Years of Credit History  Maximum Open Credit  \\\n",
       "0                      9.0                     12.5             220968.0   \n",
       "1                      6.0                     32.7              55946.0   \n",
       "2                     10.0                     13.7             204600.0   \n",
       "3                     16.0                     17.0             456302.0   \n",
       "4                     11.0                     23.6            1207272.0   \n",
       "\n",
       "   Number of Credit Problems  Months since last delinquent  Bankruptcies  \\\n",
       "0                        0.0                          70.0           0.0   \n",
       "1                        0.0                           8.0           0.0   \n",
       "2                        0.0                           NaN           0.0   \n",
       "3                        0.0                          70.0           0.0   \n",
       "4                        0.0                           NaN           0.0   \n",
       "\n",
       "                Purpose        Term  Current Loan Amount  \\\n",
       "0    debt consolidation  Short Term             162470.0   \n",
       "1  educational expenses  Short Term              78298.0   \n",
       "2    debt consolidation  Short Term             200178.0   \n",
       "3    debt consolidation  Short Term             217382.0   \n",
       "4    debt consolidation   Long Term             777634.0   \n",
       "\n",
       "   Current Credit Balance  Monthly Debt  Credit Score  \n",
       "0                105906.0        6813.0           NaN  \n",
       "1                 46037.0        2318.0         699.0  \n",
       "2                146490.0       18729.0        7260.0  \n",
       "3                213199.0       27559.0         739.0  \n",
       "4                425391.0       42605.0         706.0  "
      ]
     },
     "execution_count": 349,
     "metadata": {},
     "output_type": "execute_result"
    }
   ],
   "source": [
    "df_test = pd.read_csv(TEST_DATASET_PATH)\n",
    "df_test.head()"
   ]
  },
  {
   "cell_type": "code",
   "execution_count": 350,
   "metadata": {
    "execution": {
     "iopub.execute_input": "2021-04-04T08:14:22.936565Z",
     "iopub.status.busy": "2021-04-04T08:14:22.935756Z",
     "iopub.status.idle": "2021-04-04T08:14:22.943258Z",
     "shell.execute_reply": "2021-04-04T08:14:22.942666Z"
    },
    "papermill": {
     "duration": 0.089155,
     "end_time": "2021-04-04T08:14:22.943410",
     "exception": false,
     "start_time": "2021-04-04T08:14:22.854255",
     "status": "completed"
    },
    "tags": []
   },
   "outputs": [
    {
     "data": {
      "text/plain": [
       "(2500, 16)"
      ]
     },
     "execution_count": 350,
     "metadata": {},
     "output_type": "execute_result"
    }
   ],
   "source": [
    "df_test.shape"
   ]
  },
  {
   "cell_type": "markdown",
   "metadata": {
    "papermill": {
     "duration": 0.080059,
     "end_time": "2021-04-04T08:14:23.101399",
     "exception": false,
     "start_time": "2021-04-04T08:14:23.021340",
     "status": "completed"
    },
    "tags": []
   },
   "source": [
    "**1. Обзор обучающего датасета**"
   ]
  },
  {
   "cell_type": "code",
   "execution_count": 351,
   "metadata": {
    "execution": {
     "iopub.execute_input": "2021-04-04T08:14:23.267264Z",
     "iopub.status.busy": "2021-04-04T08:14:23.263176Z",
     "iopub.status.idle": "2021-04-04T08:14:23.289655Z",
     "shell.execute_reply": "2021-04-04T08:14:23.288203Z"
    },
    "papermill": {
     "duration": 0.110707,
     "end_time": "2021-04-04T08:14:23.289860",
     "exception": false,
     "start_time": "2021-04-04T08:14:23.179153",
     "status": "completed"
    },
    "tags": []
   },
   "outputs": [
    {
     "name": "stdout",
     "output_type": "stream",
     "text": [
      "<class 'pandas.core.frame.DataFrame'>\n",
      "RangeIndex: 7500 entries, 0 to 7499\n",
      "Data columns (total 17 columns):\n",
      " #   Column                        Non-Null Count  Dtype  \n",
      "---  ------                        --------------  -----  \n",
      " 0   Home Ownership                7500 non-null   object \n",
      " 1   Annual Income                 5943 non-null   float64\n",
      " 2   Years in current job          7129 non-null   object \n",
      " 3   Tax Liens                     7500 non-null   float64\n",
      " 4   Number of Open Accounts       7500 non-null   float64\n",
      " 5   Years of Credit History       7500 non-null   float64\n",
      " 6   Maximum Open Credit           7500 non-null   float64\n",
      " 7   Number of Credit Problems     7500 non-null   float64\n",
      " 8   Months since last delinquent  3419 non-null   float64\n",
      " 9   Bankruptcies                  7486 non-null   float64\n",
      " 10  Purpose                       7500 non-null   object \n",
      " 11  Term                          7500 non-null   object \n",
      " 12  Current Loan Amount           7500 non-null   float64\n",
      " 13  Current Credit Balance        7500 non-null   float64\n",
      " 14  Monthly Debt                  7500 non-null   float64\n",
      " 15  Credit Score                  5943 non-null   float64\n",
      " 16  Credit Default                7500 non-null   int64  \n",
      "dtypes: float64(12), int64(1), object(4)\n",
      "memory usage: 996.2+ KB\n"
     ]
    }
   ],
   "source": [
    "df_train.info()"
   ]
  },
  {
   "cell_type": "markdown",
   "metadata": {
    "papermill": {
     "duration": 0.078109,
     "end_time": "2021-04-04T08:14:23.447834",
     "exception": false,
     "start_time": "2021-04-04T08:14:23.369725",
     "status": "completed"
    },
    "tags": []
   },
   "source": [
    "**Обзор целевой переменной**"
   ]
  },
  {
   "cell_type": "code",
   "execution_count": 352,
   "metadata": {
    "execution": {
     "iopub.execute_input": "2021-04-04T08:14:23.611468Z",
     "iopub.status.busy": "2021-04-04T08:14:23.610699Z",
     "iopub.status.idle": "2021-04-04T08:14:23.617671Z",
     "shell.execute_reply": "2021-04-04T08:14:23.617101Z"
    },
    "papermill": {
     "duration": 0.090468,
     "end_time": "2021-04-04T08:14:23.617828",
     "exception": false,
     "start_time": "2021-04-04T08:14:23.527360",
     "status": "completed"
    },
    "tags": []
   },
   "outputs": [
    {
     "data": {
      "text/plain": [
       "0    5387\n",
       "1    2113\n",
       "Name: Credit Default, dtype: int64"
      ]
     },
     "execution_count": 352,
     "metadata": {},
     "output_type": "execute_result"
    }
   ],
   "source": [
    "df_train['Credit Default'].value_counts()"
   ]
  },
  {
   "cell_type": "markdown",
   "metadata": {
    "papermill": {
     "duration": 0.077606,
     "end_time": "2021-04-04T08:14:23.774852",
     "exception": false,
     "start_time": "2021-04-04T08:14:23.697246",
     "status": "completed"
    },
    "tags": []
   },
   "source": [
    "**Обзор количественных признаков**"
   ]
  },
  {
   "cell_type": "code",
   "execution_count": 353,
   "metadata": {
    "execution": {
     "iopub.execute_input": "2021-04-04T08:14:23.940030Z",
     "iopub.status.busy": "2021-04-04T08:14:23.939137Z",
     "iopub.status.idle": "2021-04-04T08:14:23.993761Z",
     "shell.execute_reply": "2021-04-04T08:14:23.992775Z"
    },
    "papermill": {
     "duration": 0.140855,
     "end_time": "2021-04-04T08:14:23.993942",
     "exception": false,
     "start_time": "2021-04-04T08:14:23.853087",
     "status": "completed"
    },
    "tags": []
   },
   "outputs": [
    {
     "data": {
      "text/html": [
       "<div>\n",
       "<style scoped>\n",
       "    .dataframe tbody tr th:only-of-type {\n",
       "        vertical-align: middle;\n",
       "    }\n",
       "\n",
       "    .dataframe tbody tr th {\n",
       "        vertical-align: top;\n",
       "    }\n",
       "\n",
       "    .dataframe thead th {\n",
       "        text-align: right;\n",
       "    }\n",
       "</style>\n",
       "<table border=\"1\" class=\"dataframe\">\n",
       "  <thead>\n",
       "    <tr style=\"text-align: right;\">\n",
       "      <th></th>\n",
       "      <th>Annual Income</th>\n",
       "      <th>Tax Liens</th>\n",
       "      <th>Number of Open Accounts</th>\n",
       "      <th>Years of Credit History</th>\n",
       "      <th>Maximum Open Credit</th>\n",
       "      <th>Number of Credit Problems</th>\n",
       "      <th>Months since last delinquent</th>\n",
       "      <th>Bankruptcies</th>\n",
       "      <th>Current Loan Amount</th>\n",
       "      <th>Current Credit Balance</th>\n",
       "      <th>Monthly Debt</th>\n",
       "      <th>Credit Score</th>\n",
       "      <th>Credit Default</th>\n",
       "    </tr>\n",
       "  </thead>\n",
       "  <tbody>\n",
       "    <tr>\n",
       "      <th>count</th>\n",
       "      <td>5.943000e+03</td>\n",
       "      <td>7500.000000</td>\n",
       "      <td>7500.000000</td>\n",
       "      <td>7500.000000</td>\n",
       "      <td>7.500000e+03</td>\n",
       "      <td>7500.000000</td>\n",
       "      <td>3419.000000</td>\n",
       "      <td>7486.000000</td>\n",
       "      <td>7.500000e+03</td>\n",
       "      <td>7.500000e+03</td>\n",
       "      <td>7500.000000</td>\n",
       "      <td>5943.000000</td>\n",
       "      <td>7500.000000</td>\n",
       "    </tr>\n",
       "    <tr>\n",
       "      <th>mean</th>\n",
       "      <td>1.366392e+06</td>\n",
       "      <td>0.030133</td>\n",
       "      <td>11.130933</td>\n",
       "      <td>18.317467</td>\n",
       "      <td>9.451537e+05</td>\n",
       "      <td>0.170000</td>\n",
       "      <td>34.692600</td>\n",
       "      <td>0.117152</td>\n",
       "      <td>1.187318e+07</td>\n",
       "      <td>2.898332e+05</td>\n",
       "      <td>18314.454133</td>\n",
       "      <td>1151.087498</td>\n",
       "      <td>0.281733</td>\n",
       "    </tr>\n",
       "    <tr>\n",
       "      <th>std</th>\n",
       "      <td>8.453392e+05</td>\n",
       "      <td>0.271604</td>\n",
       "      <td>4.908924</td>\n",
       "      <td>7.041946</td>\n",
       "      <td>1.602622e+07</td>\n",
       "      <td>0.498598</td>\n",
       "      <td>21.688806</td>\n",
       "      <td>0.347192</td>\n",
       "      <td>3.192612e+07</td>\n",
       "      <td>3.178714e+05</td>\n",
       "      <td>11926.764673</td>\n",
       "      <td>1604.451418</td>\n",
       "      <td>0.449874</td>\n",
       "    </tr>\n",
       "    <tr>\n",
       "      <th>min</th>\n",
       "      <td>1.645970e+05</td>\n",
       "      <td>0.000000</td>\n",
       "      <td>2.000000</td>\n",
       "      <td>4.000000</td>\n",
       "      <td>0.000000e+00</td>\n",
       "      <td>0.000000</td>\n",
       "      <td>0.000000</td>\n",
       "      <td>0.000000</td>\n",
       "      <td>1.124200e+04</td>\n",
       "      <td>0.000000e+00</td>\n",
       "      <td>0.000000</td>\n",
       "      <td>585.000000</td>\n",
       "      <td>0.000000</td>\n",
       "    </tr>\n",
       "    <tr>\n",
       "      <th>25%</th>\n",
       "      <td>8.443410e+05</td>\n",
       "      <td>0.000000</td>\n",
       "      <td>8.000000</td>\n",
       "      <td>13.500000</td>\n",
       "      <td>2.792295e+05</td>\n",
       "      <td>0.000000</td>\n",
       "      <td>16.000000</td>\n",
       "      <td>0.000000</td>\n",
       "      <td>1.801690e+05</td>\n",
       "      <td>1.142565e+05</td>\n",
       "      <td>10067.500000</td>\n",
       "      <td>711.000000</td>\n",
       "      <td>0.000000</td>\n",
       "    </tr>\n",
       "    <tr>\n",
       "      <th>50%</th>\n",
       "      <td>1.168386e+06</td>\n",
       "      <td>0.000000</td>\n",
       "      <td>10.000000</td>\n",
       "      <td>17.000000</td>\n",
       "      <td>4.781590e+05</td>\n",
       "      <td>0.000000</td>\n",
       "      <td>32.000000</td>\n",
       "      <td>0.000000</td>\n",
       "      <td>3.095730e+05</td>\n",
       "      <td>2.093230e+05</td>\n",
       "      <td>16076.500000</td>\n",
       "      <td>731.000000</td>\n",
       "      <td>0.000000</td>\n",
       "    </tr>\n",
       "    <tr>\n",
       "      <th>75%</th>\n",
       "      <td>1.640137e+06</td>\n",
       "      <td>0.000000</td>\n",
       "      <td>14.000000</td>\n",
       "      <td>21.800000</td>\n",
       "      <td>7.935015e+05</td>\n",
       "      <td>0.000000</td>\n",
       "      <td>50.000000</td>\n",
       "      <td>0.000000</td>\n",
       "      <td>5.198820e+05</td>\n",
       "      <td>3.604062e+05</td>\n",
       "      <td>23818.000000</td>\n",
       "      <td>743.000000</td>\n",
       "      <td>1.000000</td>\n",
       "    </tr>\n",
       "    <tr>\n",
       "      <th>max</th>\n",
       "      <td>1.014934e+07</td>\n",
       "      <td>7.000000</td>\n",
       "      <td>43.000000</td>\n",
       "      <td>57.700000</td>\n",
       "      <td>1.304726e+09</td>\n",
       "      <td>7.000000</td>\n",
       "      <td>118.000000</td>\n",
       "      <td>4.000000</td>\n",
       "      <td>1.000000e+08</td>\n",
       "      <td>6.506797e+06</td>\n",
       "      <td>136679.000000</td>\n",
       "      <td>7510.000000</td>\n",
       "      <td>1.000000</td>\n",
       "    </tr>\n",
       "  </tbody>\n",
       "</table>\n",
       "</div>"
      ],
      "text/plain": [
       "       Annual Income    Tax Liens  Number of Open Accounts  \\\n",
       "count   5.943000e+03  7500.000000              7500.000000   \n",
       "mean    1.366392e+06     0.030133                11.130933   \n",
       "std     8.453392e+05     0.271604                 4.908924   \n",
       "min     1.645970e+05     0.000000                 2.000000   \n",
       "25%     8.443410e+05     0.000000                 8.000000   \n",
       "50%     1.168386e+06     0.000000                10.000000   \n",
       "75%     1.640137e+06     0.000000                14.000000   \n",
       "max     1.014934e+07     7.000000                43.000000   \n",
       "\n",
       "       Years of Credit History  Maximum Open Credit  \\\n",
       "count              7500.000000         7.500000e+03   \n",
       "mean                 18.317467         9.451537e+05   \n",
       "std                   7.041946         1.602622e+07   \n",
       "min                   4.000000         0.000000e+00   \n",
       "25%                  13.500000         2.792295e+05   \n",
       "50%                  17.000000         4.781590e+05   \n",
       "75%                  21.800000         7.935015e+05   \n",
       "max                  57.700000         1.304726e+09   \n",
       "\n",
       "       Number of Credit Problems  Months since last delinquent  Bankruptcies  \\\n",
       "count                7500.000000                   3419.000000   7486.000000   \n",
       "mean                    0.170000                     34.692600      0.117152   \n",
       "std                     0.498598                     21.688806      0.347192   \n",
       "min                     0.000000                      0.000000      0.000000   \n",
       "25%                     0.000000                     16.000000      0.000000   \n",
       "50%                     0.000000                     32.000000      0.000000   \n",
       "75%                     0.000000                     50.000000      0.000000   \n",
       "max                     7.000000                    118.000000      4.000000   \n",
       "\n",
       "       Current Loan Amount  Current Credit Balance   Monthly Debt  \\\n",
       "count         7.500000e+03            7.500000e+03    7500.000000   \n",
       "mean          1.187318e+07            2.898332e+05   18314.454133   \n",
       "std           3.192612e+07            3.178714e+05   11926.764673   \n",
       "min           1.124200e+04            0.000000e+00       0.000000   \n",
       "25%           1.801690e+05            1.142565e+05   10067.500000   \n",
       "50%           3.095730e+05            2.093230e+05   16076.500000   \n",
       "75%           5.198820e+05            3.604062e+05   23818.000000   \n",
       "max           1.000000e+08            6.506797e+06  136679.000000   \n",
       "\n",
       "       Credit Score  Credit Default  \n",
       "count   5943.000000     7500.000000  \n",
       "mean    1151.087498        0.281733  \n",
       "std     1604.451418        0.449874  \n",
       "min      585.000000        0.000000  \n",
       "25%      711.000000        0.000000  \n",
       "50%      731.000000        0.000000  \n",
       "75%      743.000000        1.000000  \n",
       "max     7510.000000        1.000000  "
      ]
     },
     "execution_count": 353,
     "metadata": {},
     "output_type": "execute_result"
    }
   ],
   "source": [
    "df_train.describe()"
   ]
  },
  {
   "cell_type": "code",
   "execution_count": 354,
   "metadata": {
    "execution": {
     "iopub.execute_input": "2021-04-04T08:14:24.159954Z",
     "iopub.status.busy": "2021-04-04T08:14:24.159206Z",
     "iopub.status.idle": "2021-04-04T08:14:26.571196Z",
     "shell.execute_reply": "2021-04-04T08:14:26.570508Z"
    },
    "papermill": {
     "duration": 2.497062,
     "end_time": "2021-04-04T08:14:26.571366",
     "exception": false,
     "start_time": "2021-04-04T08:14:24.074304",
     "status": "completed"
    },
    "tags": []
   },
   "outputs": [
    {
     "data": {
      "image/png": "[encoded data removed]",
      "text/plain": [
       "<Figure size 1152x1152 with 16 Axes>"
      ]
     },
     "metadata": {
      "needs_background": "light"
     },
     "output_type": "display_data"
    }
   ],
   "source": [
    "df_train.hist(bins = 20, figsize = (16, 16))\n",
    "plt.show()"
   ]
  },
  {
   "cell_type": "markdown",
   "metadata": {
    "papermill": {
     "duration": 0.081824,
     "end_time": "2021-04-04T08:14:26.735908",
     "exception": false,
     "start_time": "2021-04-04T08:14:26.654084",
     "status": "completed"
    },
    "tags": []
   },
   "source": [
    "**Обзор номинативных признаков**"
   ]
  },
  {
   "cell_type": "code",
   "execution_count": 355,
   "metadata": {
    "execution": {
     "iopub.execute_input": "2021-04-04T08:14:26.920395Z",
     "iopub.status.busy": "2021-04-04T08:14:26.919407Z",
     "iopub.status.idle": "2021-04-04T08:14:26.924255Z",
     "shell.execute_reply": "2021-04-04T08:14:26.923618Z"
    },
    "papermill": {
     "duration": 0.107326,
     "end_time": "2021-04-04T08:14:26.924402",
     "exception": false,
     "start_time": "2021-04-04T08:14:26.817076",
     "status": "completed"
    },
    "tags": []
   },
   "outputs": [
    {
     "name": "stdout",
     "output_type": "stream",
     "text": [
      "Home Ownership\n",
      "\n",
      "Home Mortgage    3637\n",
      "Rent             3204\n",
      "Own Home          647\n",
      "Have Mortgage      12\n",
      "Name: Home Ownership, dtype: int64\n",
      "****************************************************************************************************\n",
      "\n",
      "Years in current job\n",
      "\n",
      "10+ years    2332\n",
      "2 years       705\n",
      "3 years       620\n",
      "< 1 year      563\n",
      "5 years       516\n",
      "1 year        504\n",
      "4 years       469\n",
      "6 years       426\n",
      "7 years       396\n",
      "8 years       339\n",
      "9 years       259\n",
      "Name: Years in current job, dtype: int64\n",
      "****************************************************************************************************\n",
      "\n",
      "Purpose\n",
      "\n",
      "debt consolidation      5944\n",
      "other                    665\n",
      "home improvements        412\n",
      "business loan            129\n",
      "buy a car                 96\n",
      "medical bills             71\n",
      "major purchase            40\n",
      "take a trip               37\n",
      "buy house                 34\n",
      "small business            26\n",
      "wedding                   15\n",
      "moving                    11\n",
      "educational expenses      10\n",
      "vacation                   8\n",
      "renewable energy           2\n",
      "Name: Purpose, dtype: int64\n",
      "****************************************************************************************************\n",
      "\n",
      "Term\n",
      "\n",
      "Short Term    5556\n",
      "Long Term     1944\n",
      "Name: Term, dtype: int64\n",
      "****************************************************************************************************\n",
      "\n"
     ]
    }
   ],
   "source": [
    "for cat_colname in df_train.select_dtypes(include='object').columns:\n",
    "    print(str(cat_colname) + '\\n\\n' + str(df_train[cat_colname].value_counts()) + '\\n' + '*' * 100 + '\\n')"
   ]
  },
  {
   "cell_type": "markdown",
   "metadata": {
    "papermill": {
     "duration": 0.081912,
     "end_time": "2021-04-04T08:14:27.087553",
     "exception": false,
     "start_time": "2021-04-04T08:14:27.005641",
     "status": "completed"
    },
    "tags": []
   },
   "source": [
    "## **Матрица корреляции**"
   ]
  },
  {
   "cell_type": "code",
   "execution_count": 356,
   "metadata": {
    "execution": {
     "iopub.execute_input": "2021-04-04T08:14:27.265437Z",
     "iopub.status.busy": "2021-04-04T08:14:27.264259Z",
     "iopub.status.idle": "2021-04-04T08:14:28.303877Z",
     "shell.execute_reply": "2021-04-04T08:14:28.304358Z"
    },
    "papermill": {
     "duration": 1.132206,
     "end_time": "2021-04-04T08:14:28.304540",
     "exception": false,
     "start_time": "2021-04-04T08:14:27.172334",
     "status": "completed"
    },
    "tags": []
   },
   "outputs": [
    {
     "data": {
      "image/png": "[encoded data removed]",
      "text/plain": [
       "<Figure size 864x504 with 2 Axes>"
      ]
     },
     "metadata": {
      "needs_background": "light"
     },
     "output_type": "display_data"
    }
   ],
   "source": [
    "plt.figure(figsize=(12, 7))\n",
    "\n",
    "# sns.set(font_scale=1.4)\n",
    "\n",
    "corr_matrix = df_train.corr()\n",
    "corr_matrix = np.round(corr_matrix, 2)\n",
    "corr_matrix[np.abs(corr_matrix) < 0.3] = 0\n",
    "\n",
    "sns.heatmap(corr_matrix, annot=True, linewidths=.5, cmap='coolwarm')\n",
    "\n",
    "plt.title('Correlation matrix')\n",
    "plt.show()"
   ]
  },
  {
   "cell_type": "markdown",
   "metadata": {
    "papermill": {
     "duration": 0.083886,
     "end_time": "2021-04-04T08:14:28.472352",
     "exception": false,
     "start_time": "2021-04-04T08:14:28.388466",
     "status": "completed"
    },
    "tags": []
   },
   "source": [
    "## **Обработка выбросов**"
   ]
  },
  {
   "cell_type": "markdown",
   "metadata": {
    "papermill": {
     "duration": 0.085861,
     "end_time": "2021-04-04T08:14:28.641805",
     "exception": false,
     "start_time": "2021-04-04T08:14:28.555944",
     "status": "completed"
    },
    "tags": []
   },
   "source": [
    "* Credit Score\n",
    "* Current Loan Amount \n",
    "* Maximum Open Credit\n",
    "* Months since last delinquent"
   ]
  },
  {
   "cell_type": "markdown",
   "metadata": {
    "papermill": {
     "duration": 0.084213,
     "end_time": "2021-04-04T08:14:28.810968",
     "exception": false,
     "start_time": "2021-04-04T08:14:28.726755",
     "status": "completed"
    },
    "tags": []
   },
   "source": [
    "**Credit Score**"
   ]
  },
  {
   "cell_type": "code",
   "execution_count": 357,
   "metadata": {
    "execution": {
     "iopub.execute_input": "2021-04-04T08:14:28.986712Z",
     "iopub.status.busy": "2021-04-04T08:14:28.985873Z",
     "iopub.status.idle": "2021-04-04T08:14:28.993435Z",
     "shell.execute_reply": "2021-04-04T08:14:28.992759Z"
    },
    "papermill": {
     "duration": 0.098781,
     "end_time": "2021-04-04T08:14:28.993586",
     "exception": false,
     "start_time": "2021-04-04T08:14:28.894805",
     "status": "completed"
    },
    "tags": []
   },
   "outputs": [
    {
     "data": {
      "text/plain": [
       "5543"
      ]
     },
     "execution_count": 357,
     "metadata": {},
     "output_type": "execute_result"
    }
   ],
   "source": [
    "df_train[df_train['Credit Score'] <= 850]['Credit Score'].count()"
   ]
  },
  {
   "cell_type": "code",
   "execution_count": 358,
   "metadata": {
    "execution": {
     "iopub.execute_input": "2021-04-04T08:14:29.177924Z",
     "iopub.status.busy": "2021-04-04T08:14:29.177166Z",
     "iopub.status.idle": "2021-04-04T08:14:29.182073Z",
     "shell.execute_reply": "2021-04-04T08:14:29.181440Z"
    },
    "papermill": {
     "duration": 0.098118,
     "end_time": "2021-04-04T08:14:29.182363",
     "exception": false,
     "start_time": "2021-04-04T08:14:29.084245",
     "status": "completed"
    },
    "tags": []
   },
   "outputs": [
    {
     "data": {
      "text/plain": [
       "400"
      ]
     },
     "execution_count": 358,
     "metadata": {},
     "output_type": "execute_result"
    }
   ],
   "source": [
    "df_train[df_train['Credit Score'] > 1000]['Credit Score'].count()"
   ]
  },
  {
   "cell_type": "markdown",
   "metadata": {
    "papermill": {
     "duration": 0.08628,
     "end_time": "2021-04-04T08:14:29.354637",
     "exception": false,
     "start_time": "2021-04-04T08:14:29.268357",
     "status": "completed"
    },
    "tags": []
   },
   "source": [
    "Есть 400 значений в диапазоне [6000, 8000], которые на порядок больше остальных 5543 в диапазоне [500, 750].\n",
    "с учетом определения кредитного рейтинга FICO\n",
    "A credit score is a number between 300–850 that depicts a consumer's creditworthiness. https://www.investopedia.com/terms/c/credit_score.asp\n",
    "разделим значения более 850 на 10."
   ]
  },
  {
   "cell_type": "code",
   "execution_count": 359,
   "metadata": {
    "execution": {
     "iopub.execute_input": "2021-04-04T08:14:29.539076Z",
     "iopub.status.busy": "2021-04-04T08:14:29.538399Z",
     "iopub.status.idle": "2021-04-04T08:14:29.541354Z",
     "shell.execute_reply": "2021-04-04T08:14:29.540686Z"
    },
    "papermill": {
     "duration": 0.099917,
     "end_time": "2021-04-04T08:14:29.541493",
     "exception": false,
     "start_time": "2021-04-04T08:14:29.441576",
     "status": "completed"
    },
    "tags": []
   },
   "outputs": [],
   "source": [
    "df_train['Credit Score Outlier'] = 0\n",
    "df_train.loc[df_train['Credit Score'] > 1000, 'Credit Score Outlier'] = 1\n",
    "df_train.loc[df_train['Credit Score'] > 1000, 'Credit Score'] = df_train.loc[df_train['Credit Score'] > 1000, 'Credit Score'] / 10"
   ]
  },
  {
   "cell_type": "code",
   "execution_count": 360,
   "metadata": {
    "execution": {
     "iopub.execute_input": "2021-04-04T08:14:29.747549Z",
     "iopub.status.busy": "2021-04-04T08:14:29.746294Z",
     "iopub.status.idle": "2021-04-04T08:14:29.897292Z",
     "shell.execute_reply": "2021-04-04T08:14:29.896610Z"
    },
    "papermill": {
     "duration": 0.270725,
     "end_time": "2021-04-04T08:14:29.897466",
     "exception": false,
     "start_time": "2021-04-04T08:14:29.626741",
     "status": "completed"
    },
    "tags": []
   },
   "outputs": [
    {
     "data": {
      "image/png": "[encoded data removed]",
      "text/plain": [
       "<Figure size 288x288 with 1 Axes>"
      ]
     },
     "metadata": {
      "needs_background": "light"
     },
     "output_type": "display_data"
    }
   ],
   "source": [
    "df_train['Credit Score'].hist(bins = 20, figsize = (4, 4))\n",
    "plt.show()"
   ]
  },
  {
   "cell_type": "code",
   "execution_count": 361,
   "metadata": {
    "execution": {
     "iopub.execute_input": "2021-04-04T08:14:30.123864Z",
     "iopub.status.busy": "2021-04-04T08:14:30.122039Z",
     "iopub.status.idle": "2021-04-04T08:14:30.282758Z",
     "shell.execute_reply": "2021-04-04T08:14:30.281804Z"
    },
    "papermill": {
     "duration": 0.290577,
     "end_time": "2021-04-04T08:14:30.282938",
     "exception": false,
     "start_time": "2021-04-04T08:14:29.992361",
     "status": "completed"
    },
    "tags": []
   },
   "outputs": [
    {
     "data": {
      "image/png": "[encoded data removed]",
      "text/plain": [
       "<Figure size 288x288 with 1 Axes>"
      ]
     },
     "metadata": {
      "needs_background": "light"
     },
     "output_type": "display_data"
    }
   ],
   "source": [
    "df_train.loc[df_train['Credit Score Outlier'] == 1, 'Credit Score'].hist(bins = 20, figsize = (4, 4))\n",
    "plt.show()"
   ]
  },
  {
   "cell_type": "markdown",
   "metadata": {
    "papermill": {
     "duration": 0.088148,
     "end_time": "2021-04-04T08:14:30.458761",
     "exception": false,
     "start_time": "2021-04-04T08:14:30.370613",
     "status": "completed"
    },
    "tags": []
   },
   "source": [
    "**Current Loan Amount**"
   ]
  },
  {
   "cell_type": "code",
   "execution_count": 362,
   "metadata": {
    "execution": {
     "iopub.execute_input": "2021-04-04T08:14:30.644206Z",
     "iopub.status.busy": "2021-04-04T08:14:30.643175Z",
     "iopub.status.idle": "2021-04-04T08:14:30.652674Z",
     "shell.execute_reply": "2021-04-04T08:14:30.653289Z"
    },
    "papermill": {
     "duration": 0.1083,
     "end_time": "2021-04-04T08:14:30.653476",
     "exception": false,
     "start_time": "2021-04-04T08:14:30.545176",
     "status": "completed"
    },
    "tags": []
   },
   "outputs": [
    {
     "data": {
      "text/plain": [
       "99999999.0    870\n",
       "89298.0         6\n",
       "218064.0        6\n",
       "216106.0        5\n",
       "270226.0        5\n",
       "             ... \n",
       "490006.0        1\n",
       "404756.0        1\n",
       "194414.0        1\n",
       "420376.0        1\n",
       "33792.0         1\n",
       "Name: Current Loan Amount, Length: 5386, dtype: int64"
      ]
     },
     "execution_count": 362,
     "metadata": {},
     "output_type": "execute_result"
    }
   ],
   "source": [
    "df_train['Current Loan Amount'].value_counts()"
   ]
  },
  {
   "cell_type": "markdown",
   "metadata": {
    "papermill": {
     "duration": 0.08544,
     "end_time": "2021-04-04T08:14:30.825123",
     "exception": false,
     "start_time": "2021-04-04T08:14:30.739683",
     "status": "completed"
    },
    "tags": []
   },
   "source": [
    "есть 870 значений, установленных в максимум.  заменяем на медиану"
   ]
  },
  {
   "cell_type": "code",
   "execution_count": 363,
   "metadata": {
    "execution": {
     "iopub.execute_input": "2021-04-04T08:14:31.010326Z",
     "iopub.status.busy": "2021-04-04T08:14:31.008672Z",
     "iopub.status.idle": "2021-04-04T08:14:31.013478Z",
     "shell.execute_reply": "2021-04-04T08:14:31.012764Z"
    },
    "papermill": {
     "duration": 0.099812,
     "end_time": "2021-04-04T08:14:31.013638",
     "exception": false,
     "start_time": "2021-04-04T08:14:30.913826",
     "status": "completed"
    },
    "tags": []
   },
   "outputs": [],
   "source": [
    "df_train['Current Loan Amount Outlier'] = 0\n",
    "df_train.loc[df_train['Current Loan Amount'] == 99999999.0, 'Current Loan Amount Outlier'] = 1\n",
    "df_train.loc[df_train['Current Loan Amount'] == 99999999.0, 'Current Loan Amount'] = df_train['Current Loan Amount'].median()"
   ]
  },
  {
   "cell_type": "code",
   "execution_count": 364,
   "metadata": {
    "execution": {
     "iopub.execute_input": "2021-04-04T08:14:31.195608Z",
     "iopub.status.busy": "2021-04-04T08:14:31.191948Z",
     "iopub.status.idle": "2021-04-04T08:14:31.200940Z",
     "shell.execute_reply": "2021-04-04T08:14:31.200248Z"
    },
    "papermill": {
     "duration": 0.101202,
     "end_time": "2021-04-04T08:14:31.201093",
     "exception": false,
     "start_time": "2021-04-04T08:14:31.099891",
     "status": "completed"
    },
    "tags": []
   },
   "outputs": [
    {
     "data": {
      "text/plain": [
       "0"
      ]
     },
     "execution_count": 364,
     "metadata": {},
     "output_type": "execute_result"
    }
   ],
   "source": [
    "df_train[df_train['Current Loan Amount'] == 99999999.0]['Current Loan Amount'].count()"
   ]
  },
  {
   "cell_type": "markdown",
   "metadata": {
    "papermill": {
     "duration": 0.08522,
     "end_time": "2021-04-04T08:14:31.375347",
     "exception": false,
     "start_time": "2021-04-04T08:14:31.290127",
     "status": "completed"
    },
    "tags": []
   },
   "source": [
    "**Maximum Open Credit - максимальная сумма, которая когда-либо была доступна клиенту (есть 1 значение 1.3 млрд)**"
   ]
  },
  {
   "cell_type": "code",
   "execution_count": 365,
   "metadata": {
    "execution": {
     "iopub.execute_input": "2021-04-04T08:14:31.578172Z",
     "iopub.status.busy": "2021-04-04T08:14:31.577414Z",
     "iopub.status.idle": "2021-04-04T08:14:31.742954Z",
     "shell.execute_reply": "2021-04-04T08:14:31.742405Z"
    },
    "papermill": {
     "duration": 0.278058,
     "end_time": "2021-04-04T08:14:31.743127",
     "exception": false,
     "start_time": "2021-04-04T08:14:31.465069",
     "status": "completed"
    },
    "tags": []
   },
   "outputs": [
    {
     "data": {
      "image/png": "[encoded data removed]",
      "text/plain": [
       "<Figure size 288x288 with 1 Axes>"
      ]
     },
     "metadata": {
      "needs_background": "light"
     },
     "output_type": "display_data"
    }
   ],
   "source": [
    "df_train['Maximum Open Credit'].hist(bins = 20, figsize = (4, 4))\n",
    "plt.show()"
   ]
  },
  {
   "cell_type": "code",
   "execution_count": 366,
   "metadata": {},
   "outputs": [
    {
     "data": {
      "text/html": [
       "<div>\n",
       "<style scoped>\n",
       "    .dataframe tbody tr th:only-of-type {\n",
       "        vertical-align: middle;\n",
       "    }\n",
       "\n",
       "    .dataframe tbody tr th {\n",
       "        vertical-align: top;\n",
       "    }\n",
       "\n",
       "    .dataframe thead th {\n",
       "        text-align: right;\n",
       "    }\n",
       "</style>\n",
       "<table border=\"1\" class=\"dataframe\">\n",
       "  <thead>\n",
       "    <tr style=\"text-align: right;\">\n",
       "      <th></th>\n",
       "      <th>Home Ownership</th>\n",
       "      <th>Annual Income</th>\n",
       "      <th>Years in current job</th>\n",
       "      <th>Tax Liens</th>\n",
       "      <th>Number of Open Accounts</th>\n",
       "      <th>Years of Credit History</th>\n",
       "      <th>Maximum Open Credit</th>\n",
       "      <th>Number of Credit Problems</th>\n",
       "      <th>Months since last delinquent</th>\n",
       "      <th>Bankruptcies</th>\n",
       "      <th>Purpose</th>\n",
       "      <th>Term</th>\n",
       "      <th>Current Loan Amount</th>\n",
       "      <th>Current Credit Balance</th>\n",
       "      <th>Monthly Debt</th>\n",
       "      <th>Credit Score</th>\n",
       "      <th>Credit Default</th>\n",
       "      <th>Credit Score Outlier</th>\n",
       "      <th>Current Loan Amount Outlier</th>\n",
       "    </tr>\n",
       "  </thead>\n",
       "  <tbody>\n",
       "    <tr>\n",
       "      <th>617</th>\n",
       "      <td>Home Mortgage</td>\n",
       "      <td>NaN</td>\n",
       "      <td>3 years</td>\n",
       "      <td>0.0</td>\n",
       "      <td>13.0</td>\n",
       "      <td>27.5</td>\n",
       "      <td>1.304726e+09</td>\n",
       "      <td>0.0</td>\n",
       "      <td>NaN</td>\n",
       "      <td>0.0</td>\n",
       "      <td>debt consolidation</td>\n",
       "      <td>Short Term</td>\n",
       "      <td>529892.0</td>\n",
       "      <td>1126814.0</td>\n",
       "      <td>5492.0</td>\n",
       "      <td>NaN</td>\n",
       "      <td>0</td>\n",
       "      <td>0</td>\n",
       "      <td>0</td>\n",
       "    </tr>\n",
       "    <tr>\n",
       "      <th>44</th>\n",
       "      <td>Have Mortgage</td>\n",
       "      <td>1334256.0</td>\n",
       "      <td>10+ years</td>\n",
       "      <td>0.0</td>\n",
       "      <td>17.0</td>\n",
       "      <td>15.4</td>\n",
       "      <td>3.800523e+08</td>\n",
       "      <td>1.0</td>\n",
       "      <td>35.0</td>\n",
       "      <td>0.0</td>\n",
       "      <td>take a trip</td>\n",
       "      <td>Short Term</td>\n",
       "      <td>33110.0</td>\n",
       "      <td>656450.0</td>\n",
       "      <td>34357.0</td>\n",
       "      <td>729.0</td>\n",
       "      <td>0</td>\n",
       "      <td>0</td>\n",
       "      <td>0</td>\n",
       "    </tr>\n",
       "    <tr>\n",
       "      <th>2617</th>\n",
       "      <td>Home Mortgage</td>\n",
       "      <td>3217802.0</td>\n",
       "      <td>10+ years</td>\n",
       "      <td>0.0</td>\n",
       "      <td>12.0</td>\n",
       "      <td>35.5</td>\n",
       "      <td>2.655129e+08</td>\n",
       "      <td>0.0</td>\n",
       "      <td>NaN</td>\n",
       "      <td>0.0</td>\n",
       "      <td>other</td>\n",
       "      <td>Short Term</td>\n",
       "      <td>50116.0</td>\n",
       "      <td>1834450.0</td>\n",
       "      <td>20272.0</td>\n",
       "      <td>750.0</td>\n",
       "      <td>0</td>\n",
       "      <td>0</td>\n",
       "      <td>0</td>\n",
       "    </tr>\n",
       "    <tr>\n",
       "      <th>2023</th>\n",
       "      <td>Rent</td>\n",
       "      <td>1342825.0</td>\n",
       "      <td>10+ years</td>\n",
       "      <td>0.0</td>\n",
       "      <td>12.0</td>\n",
       "      <td>16.3</td>\n",
       "      <td>5.756256e+07</td>\n",
       "      <td>0.0</td>\n",
       "      <td>NaN</td>\n",
       "      <td>0.0</td>\n",
       "      <td>other</td>\n",
       "      <td>Short Term</td>\n",
       "      <td>166826.0</td>\n",
       "      <td>944547.0</td>\n",
       "      <td>9176.0</td>\n",
       "      <td>749.0</td>\n",
       "      <td>0</td>\n",
       "      <td>0</td>\n",
       "      <td>0</td>\n",
       "    </tr>\n",
       "    <tr>\n",
       "      <th>2763</th>\n",
       "      <td>Home Mortgage</td>\n",
       "      <td>3377440.0</td>\n",
       "      <td>10+ years</td>\n",
       "      <td>0.0</td>\n",
       "      <td>11.0</td>\n",
       "      <td>23.2</td>\n",
       "      <td>4.092389e+07</td>\n",
       "      <td>0.0</td>\n",
       "      <td>59.0</td>\n",
       "      <td>0.0</td>\n",
       "      <td>home improvements</td>\n",
       "      <td>Short Term</td>\n",
       "      <td>309573.0</td>\n",
       "      <td>1908550.0</td>\n",
       "      <td>5770.0</td>\n",
       "      <td>743.0</td>\n",
       "      <td>0</td>\n",
       "      <td>0</td>\n",
       "      <td>1</td>\n",
       "    </tr>\n",
       "    <tr>\n",
       "      <th>7026</th>\n",
       "      <td>Home Mortgage</td>\n",
       "      <td>3312365.0</td>\n",
       "      <td>5 years</td>\n",
       "      <td>0.0</td>\n",
       "      <td>13.0</td>\n",
       "      <td>25.3</td>\n",
       "      <td>2.640700e+07</td>\n",
       "      <td>0.0</td>\n",
       "      <td>50.0</td>\n",
       "      <td>0.0</td>\n",
       "      <td>home improvements</td>\n",
       "      <td>Long Term</td>\n",
       "      <td>309573.0</td>\n",
       "      <td>2440246.0</td>\n",
       "      <td>39196.0</td>\n",
       "      <td>745.0</td>\n",
       "      <td>0</td>\n",
       "      <td>0</td>\n",
       "      <td>1</td>\n",
       "    </tr>\n",
       "    <tr>\n",
       "      <th>4769</th>\n",
       "      <td>Home Mortgage</td>\n",
       "      <td>3739960.0</td>\n",
       "      <td>9 years</td>\n",
       "      <td>0.0</td>\n",
       "      <td>7.0</td>\n",
       "      <td>22.8</td>\n",
       "      <td>2.634333e+07</td>\n",
       "      <td>0.0</td>\n",
       "      <td>NaN</td>\n",
       "      <td>0.0</td>\n",
       "      <td>home improvements</td>\n",
       "      <td>Short Term</td>\n",
       "      <td>757834.0</td>\n",
       "      <td>6506797.0</td>\n",
       "      <td>38023.0</td>\n",
       "      <td>703.0</td>\n",
       "      <td>0</td>\n",
       "      <td>0</td>\n",
       "      <td>0</td>\n",
       "    </tr>\n",
       "    <tr>\n",
       "      <th>5523</th>\n",
       "      <td>Home Mortgage</td>\n",
       "      <td>1520304.0</td>\n",
       "      <td>10+ years</td>\n",
       "      <td>0.0</td>\n",
       "      <td>21.0</td>\n",
       "      <td>35.5</td>\n",
       "      <td>2.137243e+07</td>\n",
       "      <td>0.0</td>\n",
       "      <td>0.0</td>\n",
       "      <td>0.0</td>\n",
       "      <td>other</td>\n",
       "      <td>Long Term</td>\n",
       "      <td>309573.0</td>\n",
       "      <td>1975012.0</td>\n",
       "      <td>12555.0</td>\n",
       "      <td>728.0</td>\n",
       "      <td>0</td>\n",
       "      <td>0</td>\n",
       "      <td>1</td>\n",
       "    </tr>\n",
       "    <tr>\n",
       "      <th>5731</th>\n",
       "      <td>Home Mortgage</td>\n",
       "      <td>1475198.0</td>\n",
       "      <td>8 years</td>\n",
       "      <td>0.0</td>\n",
       "      <td>10.0</td>\n",
       "      <td>24.9</td>\n",
       "      <td>1.928043e+07</td>\n",
       "      <td>0.0</td>\n",
       "      <td>NaN</td>\n",
       "      <td>0.0</td>\n",
       "      <td>debt consolidation</td>\n",
       "      <td>Short Term</td>\n",
       "      <td>309573.0</td>\n",
       "      <td>1132286.0</td>\n",
       "      <td>17543.0</td>\n",
       "      <td>751.0</td>\n",
       "      <td>0</td>\n",
       "      <td>0</td>\n",
       "      <td>1</td>\n",
       "    </tr>\n",
       "    <tr>\n",
       "      <th>3170</th>\n",
       "      <td>Home Mortgage</td>\n",
       "      <td>2226230.0</td>\n",
       "      <td>10+ years</td>\n",
       "      <td>0.0</td>\n",
       "      <td>20.0</td>\n",
       "      <td>19.0</td>\n",
       "      <td>1.868381e+07</td>\n",
       "      <td>0.0</td>\n",
       "      <td>NaN</td>\n",
       "      <td>0.0</td>\n",
       "      <td>buy a car</td>\n",
       "      <td>Short Term</td>\n",
       "      <td>111892.0</td>\n",
       "      <td>2355867.0</td>\n",
       "      <td>17123.0</td>\n",
       "      <td>750.0</td>\n",
       "      <td>0</td>\n",
       "      <td>0</td>\n",
       "      <td>0</td>\n",
       "    </tr>\n",
       "  </tbody>\n",
       "</table>\n",
       "</div>"
      ],
      "text/plain": [
       "     Home Ownership  Annual Income Years in current job  Tax Liens  \\\n",
       "617   Home Mortgage            NaN              3 years        0.0   \n",
       "44    Have Mortgage      1334256.0            10+ years        0.0   \n",
       "2617  Home Mortgage      3217802.0            10+ years        0.0   \n",
       "2023           Rent      1342825.0            10+ years        0.0   \n",
       "2763  Home Mortgage      3377440.0            10+ years        0.0   \n",
       "7026  Home Mortgage      3312365.0              5 years        0.0   \n",
       "4769  Home Mortgage      3739960.0              9 years        0.0   \n",
       "5523  Home Mortgage      1520304.0            10+ years        0.0   \n",
       "5731  Home Mortgage      1475198.0              8 years        0.0   \n",
       "3170  Home Mortgage      2226230.0            10+ years        0.0   \n",
       "\n",
       "      Number of Open Accounts  Years of Credit History  Maximum Open Credit  \\\n",
       "617                      13.0                     27.5         1.304726e+09   \n",
       "44                       17.0                     15.4         3.800523e+08   \n",
       "2617                     12.0                     35.5         2.655129e+08   \n",
       "2023                     12.0                     16.3         5.756256e+07   \n",
       "2763                     11.0                     23.2         4.092389e+07   \n",
       "7026                     13.0                     25.3         2.640700e+07   \n",
       "4769                      7.0                     22.8         2.634333e+07   \n",
       "5523                     21.0                     35.5         2.137243e+07   \n",
       "5731                     10.0                     24.9         1.928043e+07   \n",
       "3170                     20.0                     19.0         1.868381e+07   \n",
       "\n",
       "      Number of Credit Problems  Months since last delinquent  Bankruptcies  \\\n",
       "617                         0.0                           NaN           0.0   \n",
       "44                          1.0                          35.0           0.0   \n",
       "2617                        0.0                           NaN           0.0   \n",
       "2023                        0.0                           NaN           0.0   \n",
       "2763                        0.0                          59.0           0.0   \n",
       "7026                        0.0                          50.0           0.0   \n",
       "4769                        0.0                           NaN           0.0   \n",
       "5523                        0.0                           0.0           0.0   \n",
       "5731                        0.0                           NaN           0.0   \n",
       "3170                        0.0                           NaN           0.0   \n",
       "\n",
       "                 Purpose        Term  Current Loan Amount  \\\n",
       "617   debt consolidation  Short Term             529892.0   \n",
       "44           take a trip  Short Term              33110.0   \n",
       "2617               other  Short Term              50116.0   \n",
       "2023               other  Short Term             166826.0   \n",
       "2763   home improvements  Short Term             309573.0   \n",
       "7026   home improvements   Long Term             309573.0   \n",
       "4769   home improvements  Short Term             757834.0   \n",
       "5523               other   Long Term             309573.0   \n",
       "5731  debt consolidation  Short Term             309573.0   \n",
       "3170           buy a car  Short Term             111892.0   \n",
       "\n",
       "      Current Credit Balance  Monthly Debt  Credit Score  Credit Default  \\\n",
       "617                1126814.0        5492.0           NaN               0   \n",
       "44                  656450.0       34357.0         729.0               0   \n",
       "2617               1834450.0       20272.0         750.0               0   \n",
       "2023                944547.0        9176.0         749.0               0   \n",
       "2763               1908550.0        5770.0         743.0               0   \n",
       "7026               2440246.0       39196.0         745.0               0   \n",
       "4769               6506797.0       38023.0         703.0               0   \n",
       "5523               1975012.0       12555.0         728.0               0   \n",
       "5731               1132286.0       17543.0         751.0               0   \n",
       "3170               2355867.0       17123.0         750.0               0   \n",
       "\n",
       "      Credit Score Outlier  Current Loan Amount Outlier  \n",
       "617                      0                            0  \n",
       "44                       0                            0  \n",
       "2617                     0                            0  \n",
       "2023                     0                            0  \n",
       "2763                     0                            1  \n",
       "7026                     0                            1  \n",
       "4769                     0                            0  \n",
       "5523                     0                            1  \n",
       "5731                     0                            1  \n",
       "3170                     0                            0  "
      ]
     },
     "execution_count": 366,
     "metadata": {},
     "output_type": "execute_result"
    }
   ],
   "source": [
    "df_train.nlargest(10, 'Maximum Open Credit')"
   ]
  },
  {
   "cell_type": "markdown",
   "metadata": {
    "papermill": {
     "duration": 0.086046,
     "end_time": "2021-04-04T08:14:31.916617",
     "exception": false,
     "start_time": "2021-04-04T08:14:31.830571",
     "status": "completed"
    },
    "tags": []
   },
   "source": [
    "Видно, что последние наибольшие значения Maximum Open Credit отличаются на порядок от остальных"
   ]
  },
  {
   "cell_type": "code",
   "execution_count": 367,
   "metadata": {
    "execution": {
     "iopub.execute_input": "2021-04-04T08:14:32.098214Z",
     "iopub.status.busy": "2021-04-04T08:14:32.097563Z",
     "iopub.status.idle": "2021-04-04T08:14:32.101044Z",
     "shell.execute_reply": "2021-04-04T08:14:32.100482Z"
    },
    "papermill": {
     "duration": 0.097329,
     "end_time": "2021-04-04T08:14:32.101192",
     "exception": false,
     "start_time": "2021-04-04T08:14:32.003863",
     "status": "completed"
    },
    "tags": []
   },
   "outputs": [],
   "source": [
    "max_credit = 99999999.0"
   ]
  },
  {
   "cell_type": "code",
   "execution_count": 368,
   "metadata": {
    "execution": {
     "iopub.execute_input": "2021-04-04T08:14:32.290208Z",
     "iopub.status.busy": "2021-04-04T08:14:32.289506Z",
     "iopub.status.idle": "2021-04-04T08:14:32.293920Z",
     "shell.execute_reply": "2021-04-04T08:14:32.293161Z"
    },
    "papermill": {
     "duration": 0.10292,
     "end_time": "2021-04-04T08:14:32.294173",
     "exception": false,
     "start_time": "2021-04-04T08:14:32.191253",
     "status": "completed"
    },
    "tags": []
   },
   "outputs": [
    {
     "data": {
      "text/plain": [
       "2.655129e+08    1\n",
       "3.800523e+08    1\n",
       "1.304726e+09    1\n",
       "Name: Maximum Open Credit, dtype: int64"
      ]
     },
     "execution_count": 368,
     "metadata": {},
     "output_type": "execute_result"
    }
   ],
   "source": [
    "df_train[df_train['Maximum Open Credit'] > max_credit]['Maximum Open Credit'].value_counts()"
   ]
  },
  {
   "cell_type": "code",
   "execution_count": 369,
   "metadata": {
    "execution": {
     "iopub.execute_input": "2021-04-04T08:14:32.480499Z",
     "iopub.status.busy": "2021-04-04T08:14:32.479619Z",
     "iopub.status.idle": "2021-04-04T08:14:32.486580Z",
     "shell.execute_reply": "2021-04-04T08:14:32.485799Z"
    },
    "papermill": {
     "duration": 0.103888,
     "end_time": "2021-04-04T08:14:32.486765",
     "exception": false,
     "start_time": "2021-04-04T08:14:32.382877",
     "status": "completed"
    },
    "tags": []
   },
   "outputs": [],
   "source": [
    "df_train['Maximum Open Credit Outlier'] = 0\n",
    "df_train.loc[df_train['Maximum Open Credit'] > max_credit, 'Maximum Open Credit Outlier'] = 1\n",
    "df_train.loc[df_train['Maximum Open Credit'] > max_credit, 'Maximum Open Credit'] = max_credit"
   ]
  },
  {
   "cell_type": "code",
   "execution_count": 370,
   "metadata": {
    "execution": {
     "iopub.execute_input": "2021-04-04T08:14:32.669105Z",
     "iopub.status.busy": "2021-04-04T08:14:32.668270Z",
     "iopub.status.idle": "2021-04-04T08:14:32.693943Z",
     "shell.execute_reply": "2021-04-04T08:14:32.694496Z"
    },
    "papermill": {
     "duration": 0.118159,
     "end_time": "2021-04-04T08:14:32.694672",
     "exception": false,
     "start_time": "2021-04-04T08:14:32.576513",
     "status": "completed"
    },
    "tags": []
   },
   "outputs": [
    {
     "data": {
      "text/html": [
       "<div>\n",
       "<style scoped>\n",
       "    .dataframe tbody tr th:only-of-type {\n",
       "        vertical-align: middle;\n",
       "    }\n",
       "\n",
       "    .dataframe tbody tr th {\n",
       "        vertical-align: top;\n",
       "    }\n",
       "\n",
       "    .dataframe thead th {\n",
       "        text-align: right;\n",
       "    }\n",
       "</style>\n",
       "<table border=\"1\" class=\"dataframe\">\n",
       "  <thead>\n",
       "    <tr style=\"text-align: right;\">\n",
       "      <th></th>\n",
       "      <th>Home Ownership</th>\n",
       "      <th>Annual Income</th>\n",
       "      <th>Years in current job</th>\n",
       "      <th>Tax Liens</th>\n",
       "      <th>Number of Open Accounts</th>\n",
       "      <th>Years of Credit History</th>\n",
       "      <th>Maximum Open Credit</th>\n",
       "      <th>Number of Credit Problems</th>\n",
       "      <th>Months since last delinquent</th>\n",
       "      <th>Bankruptcies</th>\n",
       "      <th>Purpose</th>\n",
       "      <th>Term</th>\n",
       "      <th>Current Loan Amount</th>\n",
       "      <th>Current Credit Balance</th>\n",
       "      <th>Monthly Debt</th>\n",
       "      <th>Credit Score</th>\n",
       "      <th>Credit Default</th>\n",
       "      <th>Credit Score Outlier</th>\n",
       "      <th>Current Loan Amount Outlier</th>\n",
       "      <th>Maximum Open Credit Outlier</th>\n",
       "    </tr>\n",
       "  </thead>\n",
       "  <tbody>\n",
       "    <tr>\n",
       "      <th>44</th>\n",
       "      <td>Have Mortgage</td>\n",
       "      <td>1334256.0</td>\n",
       "      <td>10+ years</td>\n",
       "      <td>0.0</td>\n",
       "      <td>17.0</td>\n",
       "      <td>15.4</td>\n",
       "      <td>99999999.0</td>\n",
       "      <td>1.0</td>\n",
       "      <td>35.0</td>\n",
       "      <td>0.0</td>\n",
       "      <td>take a trip</td>\n",
       "      <td>Short Term</td>\n",
       "      <td>33110.0</td>\n",
       "      <td>656450.0</td>\n",
       "      <td>34357.0</td>\n",
       "      <td>729.0</td>\n",
       "      <td>0</td>\n",
       "      <td>0</td>\n",
       "      <td>0</td>\n",
       "      <td>1</td>\n",
       "    </tr>\n",
       "    <tr>\n",
       "      <th>617</th>\n",
       "      <td>Home Mortgage</td>\n",
       "      <td>NaN</td>\n",
       "      <td>3 years</td>\n",
       "      <td>0.0</td>\n",
       "      <td>13.0</td>\n",
       "      <td>27.5</td>\n",
       "      <td>99999999.0</td>\n",
       "      <td>0.0</td>\n",
       "      <td>NaN</td>\n",
       "      <td>0.0</td>\n",
       "      <td>debt consolidation</td>\n",
       "      <td>Short Term</td>\n",
       "      <td>529892.0</td>\n",
       "      <td>1126814.0</td>\n",
       "      <td>5492.0</td>\n",
       "      <td>NaN</td>\n",
       "      <td>0</td>\n",
       "      <td>0</td>\n",
       "      <td>0</td>\n",
       "      <td>1</td>\n",
       "    </tr>\n",
       "    <tr>\n",
       "      <th>2617</th>\n",
       "      <td>Home Mortgage</td>\n",
       "      <td>3217802.0</td>\n",
       "      <td>10+ years</td>\n",
       "      <td>0.0</td>\n",
       "      <td>12.0</td>\n",
       "      <td>35.5</td>\n",
       "      <td>99999999.0</td>\n",
       "      <td>0.0</td>\n",
       "      <td>NaN</td>\n",
       "      <td>0.0</td>\n",
       "      <td>other</td>\n",
       "      <td>Short Term</td>\n",
       "      <td>50116.0</td>\n",
       "      <td>1834450.0</td>\n",
       "      <td>20272.0</td>\n",
       "      <td>750.0</td>\n",
       "      <td>0</td>\n",
       "      <td>0</td>\n",
       "      <td>0</td>\n",
       "      <td>1</td>\n",
       "    </tr>\n",
       "  </tbody>\n",
       "</table>\n",
       "</div>"
      ],
      "text/plain": [
       "     Home Ownership  Annual Income Years in current job  Tax Liens  \\\n",
       "44    Have Mortgage      1334256.0            10+ years        0.0   \n",
       "617   Home Mortgage            NaN              3 years        0.0   \n",
       "2617  Home Mortgage      3217802.0            10+ years        0.0   \n",
       "\n",
       "      Number of Open Accounts  Years of Credit History  Maximum Open Credit  \\\n",
       "44                       17.0                     15.4           99999999.0   \n",
       "617                      13.0                     27.5           99999999.0   \n",
       "2617                     12.0                     35.5           99999999.0   \n",
       "\n",
       "      Number of Credit Problems  Months since last delinquent  Bankruptcies  \\\n",
       "44                          1.0                          35.0           0.0   \n",
       "617                         0.0                           NaN           0.0   \n",
       "2617                        0.0                           NaN           0.0   \n",
       "\n",
       "                 Purpose        Term  Current Loan Amount  \\\n",
       "44           take a trip  Short Term              33110.0   \n",
       "617   debt consolidation  Short Term             529892.0   \n",
       "2617               other  Short Term              50116.0   \n",
       "\n",
       "      Current Credit Balance  Monthly Debt  Credit Score  Credit Default  \\\n",
       "44                  656450.0       34357.0         729.0               0   \n",
       "617                1126814.0        5492.0           NaN               0   \n",
       "2617               1834450.0       20272.0         750.0               0   \n",
       "\n",
       "      Credit Score Outlier  Current Loan Amount Outlier  \\\n",
       "44                       0                            0   \n",
       "617                      0                            0   \n",
       "2617                     0                            0   \n",
       "\n",
       "      Maximum Open Credit Outlier  \n",
       "44                              1  \n",
       "617                             1  \n",
       "2617                            1  "
      ]
     },
     "execution_count": 370,
     "metadata": {},
     "output_type": "execute_result"
    }
   ],
   "source": [
    "df_train[df_train['Maximum Open Credit Outlier'] == 1]"
   ]
  },
  {
   "cell_type": "markdown",
   "metadata": {
    "papermill": {
     "duration": 0.08808,
     "end_time": "2021-04-04T08:14:32.871627",
     "exception": false,
     "start_time": "2021-04-04T08:14:32.783547",
     "status": "completed"
    },
    "tags": []
   },
   "source": [
    "**Months since last delinquent**"
   ]
  },
  {
   "cell_type": "code",
   "execution_count": 371,
   "metadata": {
    "execution": {
     "iopub.execute_input": "2021-04-04T08:14:33.054032Z",
     "iopub.status.busy": "2021-04-04T08:14:33.053372Z",
     "iopub.status.idle": "2021-04-04T08:14:33.062899Z",
     "shell.execute_reply": "2021-04-04T08:14:33.062380Z"
    },
    "papermill": {
     "duration": 0.10447,
     "end_time": "2021-04-04T08:14:33.063045",
     "exception": false,
     "start_time": "2021-04-04T08:14:32.958575",
     "status": "completed"
    },
    "tags": []
   },
   "outputs": [
    {
     "data": {
      "text/plain": [
       "count    3419.000000\n",
       "mean       34.692600\n",
       "std        21.688806\n",
       "min         0.000000\n",
       "25%        16.000000\n",
       "50%        32.000000\n",
       "75%        50.000000\n",
       "max       118.000000\n",
       "Name: Months since last delinquent, dtype: float64"
      ]
     },
     "execution_count": 371,
     "metadata": {},
     "output_type": "execute_result"
    }
   ],
   "source": [
    "df_train['Months since last delinquent'].describe()"
   ]
  },
  {
   "cell_type": "code",
   "execution_count": 372,
   "metadata": {
    "execution": {
     "iopub.execute_input": "2021-04-04T08:14:33.246209Z",
     "iopub.status.busy": "2021-04-04T08:14:33.245537Z",
     "iopub.status.idle": "2021-04-04T08:14:33.250166Z",
     "shell.execute_reply": "2021-04-04T08:14:33.249517Z"
    },
    "papermill": {
     "duration": 0.098622,
     "end_time": "2021-04-04T08:14:33.250343",
     "exception": false,
     "start_time": "2021-04-04T08:14:33.151721",
     "status": "completed"
    },
    "tags": []
   },
   "outputs": [
    {
     "data": {
      "text/plain": [
       "0.5441333333333334"
      ]
     },
     "execution_count": 372,
     "metadata": {},
     "output_type": "execute_result"
    }
   ],
   "source": [
    "NaN_percentage = df_train['Months since last delinquent'].isna().sum() / df_train.shape[0]\n",
    "NaN_percentage"
   ]
  },
  {
   "cell_type": "markdown",
   "metadata": {
    "papermill": {
     "duration": 0.089806,
     "end_time": "2021-04-04T08:14:33.432890",
     "exception": false,
     "start_time": "2021-04-04T08:14:33.343084",
     "status": "completed"
    },
    "tags": []
   },
   "source": [
    "Отсутствует более половины данных. При обработке данных удалим указанный признак."
   ]
  },
  {
   "cell_type": "markdown",
   "metadata": {
    "papermill": {
     "duration": 0.105879,
     "end_time": "2021-04-04T08:14:33.629285",
     "exception": false,
     "start_time": "2021-04-04T08:14:33.523406",
     "status": "completed"
    },
    "tags": []
   },
   "source": [
    "## **Обработка пропусков**"
   ]
  },
  {
   "cell_type": "code",
   "execution_count": 373,
   "metadata": {
    "execution": {
     "iopub.execute_input": "2021-04-04T08:14:33.835756Z",
     "iopub.status.busy": "2021-04-04T08:14:33.834992Z",
     "iopub.status.idle": "2021-04-04T08:14:33.844054Z",
     "shell.execute_reply": "2021-04-04T08:14:33.843508Z"
    },
    "papermill": {
     "duration": 0.108253,
     "end_time": "2021-04-04T08:14:33.844201",
     "exception": false,
     "start_time": "2021-04-04T08:14:33.735948",
     "status": "completed"
    },
    "tags": []
   },
   "outputs": [
    {
     "data": {
      "text/plain": [
       "Home Ownership                     0\n",
       "Annual Income                   1557\n",
       "Years in current job             371\n",
       "Tax Liens                          0\n",
       "Number of Open Accounts            0\n",
       "Years of Credit History            0\n",
       "Maximum Open Credit                0\n",
       "Number of Credit Problems          0\n",
       "Months since last delinquent    4081\n",
       "Bankruptcies                      14\n",
       "Purpose                            0\n",
       "Term                               0\n",
       "Current Loan Amount                0\n",
       "Current Credit Balance             0\n",
       "Monthly Debt                       0\n",
       "Credit Score                    1557\n",
       "Credit Default                     0\n",
       "Credit Score Outlier               0\n",
       "Current Loan Amount Outlier        0\n",
       "Maximum Open Credit Outlier        0\n",
       "dtype: int64"
      ]
     },
     "execution_count": 373,
     "metadata": {},
     "output_type": "execute_result"
    }
   ],
   "source": [
    "df_train.isna().sum()"
   ]
  },
  {
   "cell_type": "markdown",
   "metadata": {
    "papermill": {
     "duration": 0.091336,
     "end_time": "2021-04-04T08:14:34.026048",
     "exception": false,
     "start_time": "2021-04-04T08:14:33.934712",
     "status": "completed"
    },
    "tags": []
   },
   "source": [
    "* Annual Income\n",
    "* Years in current job\n",
    "* Months since last delinquent\n",
    "* Bankruptcies\n",
    "* Credit Score"
   ]
  },
  {
   "cell_type": "markdown",
   "metadata": {
    "papermill": {
     "duration": 0.092712,
     "end_time": "2021-04-04T08:14:34.209957",
     "exception": false,
     "start_time": "2021-04-04T08:14:34.117245",
     "status": "completed"
    },
    "tags": []
   },
   "source": [
    "**Annual Income**"
   ]
  },
  {
   "cell_type": "markdown",
   "metadata": {
    "papermill": {
     "duration": 0.089165,
     "end_time": "2021-04-04T08:14:34.391511",
     "exception": false,
     "start_time": "2021-04-04T08:14:34.302346",
     "status": "completed"
    },
    "tags": []
   },
   "source": [
    "Пропущенные данные заполняем медианой"
   ]
  },
  {
   "cell_type": "code",
   "execution_count": 374,
   "metadata": {
    "execution": {
     "iopub.execute_input": "2021-04-04T08:14:34.574447Z",
     "iopub.status.busy": "2021-04-04T08:14:34.573744Z",
     "iopub.status.idle": "2021-04-04T08:14:34.579453Z",
     "shell.execute_reply": "2021-04-04T08:14:34.578784Z"
    },
    "papermill": {
     "duration": 0.099024,
     "end_time": "2021-04-04T08:14:34.579606",
     "exception": false,
     "start_time": "2021-04-04T08:14:34.480582",
     "status": "completed"
    },
    "tags": []
   },
   "outputs": [
    {
     "data": {
      "text/plain": [
       "1168386.0"
      ]
     },
     "execution_count": 374,
     "metadata": {},
     "output_type": "execute_result"
    }
   ],
   "source": [
    "df_train['Annual Income'].median()"
   ]
  },
  {
   "cell_type": "code",
   "execution_count": 375,
   "metadata": {
    "execution": {
     "iopub.execute_input": "2021-04-04T08:14:34.767909Z",
     "iopub.status.busy": "2021-04-04T08:14:34.766508Z",
     "iopub.status.idle": "2021-04-04T08:14:34.780494Z",
     "shell.execute_reply": "2021-04-04T08:14:34.779878Z"
    },
    "papermill": {
     "duration": 0.109832,
     "end_time": "2021-04-04T08:14:34.780654",
     "exception": false,
     "start_time": "2021-04-04T08:14:34.670822",
     "status": "completed"
    },
    "tags": []
   },
   "outputs": [
    {
     "data": {
      "text/plain": [
       "Home Ownership                  1557\n",
       "Annual Income                      0\n",
       "Years in current job            1482\n",
       "Tax Liens                       1557\n",
       "Number of Open Accounts         1557\n",
       "Years of Credit History         1557\n",
       "Maximum Open Credit             1557\n",
       "Number of Credit Problems       1557\n",
       "Months since last delinquent     683\n",
       "Bankruptcies                    1555\n",
       "Purpose                         1557\n",
       "Term                            1557\n",
       "Current Loan Amount             1557\n",
       "Current Credit Balance          1557\n",
       "Monthly Debt                    1557\n",
       "Credit Score                       0\n",
       "Credit Default                  1557\n",
       "Credit Score Outlier            1557\n",
       "Current Loan Amount Outlier     1557\n",
       "Maximum Open Credit Outlier     1557\n",
       "Annual Income NaN               1557\n",
       "dtype: int64"
      ]
     },
     "execution_count": 375,
     "metadata": {},
     "output_type": "execute_result"
    }
   ],
   "source": [
    "df_train['Annual Income NaN'] = 0\n",
    "df_train.loc[df_train['Annual Income'].isna(), 'Annual Income NaN'] = 1\n",
    "df_train[df_train['Annual Income NaN']==1].count()\n",
    "#df_train.head()"
   ]
  },
  {
   "cell_type": "code",
   "execution_count": 376,
   "metadata": {
    "execution": {
     "iopub.execute_input": "2021-04-04T08:14:34.968775Z",
     "iopub.status.busy": "2021-04-04T08:14:34.967907Z",
     "iopub.status.idle": "2021-04-04T08:14:34.972262Z",
     "shell.execute_reply": "2021-04-04T08:14:34.971564Z"
    },
    "papermill": {
     "duration": 0.101335,
     "end_time": "2021-04-04T08:14:34.972408",
     "exception": false,
     "start_time": "2021-04-04T08:14:34.871073",
     "status": "completed"
    },
    "tags": []
   },
   "outputs": [],
   "source": [
    "df_train['Annual Income'].fillna(df_train['Annual Income'].median(), inplace = True)"
   ]
  },
  {
   "cell_type": "code",
   "execution_count": 377,
   "metadata": {
    "execution": {
     "iopub.execute_input": "2021-04-04T08:14:35.158868Z",
     "iopub.status.busy": "2021-04-04T08:14:35.158130Z",
     "iopub.status.idle": "2021-04-04T08:14:35.162813Z",
     "shell.execute_reply": "2021-04-04T08:14:35.162149Z"
    },
    "papermill": {
     "duration": 0.100951,
     "end_time": "2021-04-04T08:14:35.162951",
     "exception": false,
     "start_time": "2021-04-04T08:14:35.062000",
     "status": "completed"
    },
    "scrolled": false,
    "tags": []
   },
   "outputs": [
    {
     "data": {
      "text/plain": [
       "0"
      ]
     },
     "execution_count": 377,
     "metadata": {},
     "output_type": "execute_result"
    }
   ],
   "source": [
    "df_train['Annual Income'].isna().sum()"
   ]
  },
  {
   "cell_type": "code",
   "execution_count": 378,
   "metadata": {
    "execution": {
     "iopub.execute_input": "2021-04-04T08:14:35.518292Z",
     "iopub.status.busy": "2021-04-04T08:14:35.516680Z",
     "iopub.status.idle": "2021-04-04T08:14:35.685918Z",
     "shell.execute_reply": "2021-04-04T08:14:35.685203Z"
    },
    "papermill": {
     "duration": 0.432361,
     "end_time": "2021-04-04T08:14:35.686057",
     "exception": false,
     "start_time": "2021-04-04T08:14:35.253696",
     "status": "completed"
    },
    "tags": []
   },
   "outputs": [
    {
     "data": {
      "image/png": "[encoded data removed]",
      "text/plain": [
       "<Figure size 288x288 with 1 Axes>"
      ]
     },
     "metadata": {
      "needs_background": "light"
     },
     "output_type": "display_data"
    }
   ],
   "source": [
    "df_train['Annual Income'].hist(bins = 20, figsize = (4, 4))\n",
    "plt.show()"
   ]
  },
  {
   "cell_type": "markdown",
   "metadata": {
    "papermill": {
     "duration": 0.090725,
     "end_time": "2021-04-04T08:14:35.868036",
     "exception": false,
     "start_time": "2021-04-04T08:14:35.777311",
     "status": "completed"
    },
    "tags": []
   },
   "source": [
    "**Years in current job**"
   ]
  },
  {
   "cell_type": "markdown",
   "metadata": {
    "papermill": {
     "duration": 0.092456,
     "end_time": "2021-04-04T08:14:36.050591",
     "exception": false,
     "start_time": "2021-04-04T08:14:35.958135",
     "status": "completed"
    },
    "tags": []
   },
   "source": [
    "Пропуски заполнем наиболее часто встречающимся значение."
   ]
  },
  {
   "cell_type": "code",
   "execution_count": 379,
   "metadata": {
    "execution": {
     "iopub.execute_input": "2021-04-04T08:14:36.292960Z",
     "iopub.status.busy": "2021-04-04T08:14:36.292031Z",
     "iopub.status.idle": "2021-04-04T08:14:36.297766Z",
     "shell.execute_reply": "2021-04-04T08:14:36.297137Z"
    },
    "papermill": {
     "duration": 0.155584,
     "end_time": "2021-04-04T08:14:36.297909",
     "exception": false,
     "start_time": "2021-04-04T08:14:36.142325",
     "status": "completed"
    },
    "tags": []
   },
   "outputs": [
    {
     "data": {
      "text/plain": [
       "'10+ years'"
      ]
     },
     "execution_count": 379,
     "metadata": {},
     "output_type": "execute_result"
    }
   ],
   "source": [
    "mode = df_train['Years in current job'].mode().values[0]\n",
    "mode"
   ]
  },
  {
   "cell_type": "code",
   "execution_count": 380,
   "metadata": {
    "execution": {
     "iopub.execute_input": "2021-04-04T08:14:36.491200Z",
     "iopub.status.busy": "2021-04-04T08:14:36.490510Z",
     "iopub.status.idle": "2021-04-04T08:14:36.493451Z",
     "shell.execute_reply": "2021-04-04T08:14:36.494039Z"
    },
    "papermill": {
     "duration": 0.104788,
     "end_time": "2021-04-04T08:14:36.494211",
     "exception": false,
     "start_time": "2021-04-04T08:14:36.389423",
     "status": "completed"
    },
    "tags": []
   },
   "outputs": [],
   "source": [
    "df_train['Years in current job NaN'] = 0\n",
    "df_train.loc[df_train['Years in current job'].isna(), 'Years in current job NaN'] = 1\n",
    "df_train['Years in current job'].fillna(mode, inplace = True)"
   ]
  },
  {
   "cell_type": "code",
   "execution_count": 381,
   "metadata": {
    "execution": {
     "iopub.execute_input": "2021-04-04T08:14:36.686509Z",
     "iopub.status.busy": "2021-04-04T08:14:36.685731Z",
     "iopub.status.idle": "2021-04-04T08:14:36.689784Z",
     "shell.execute_reply": "2021-04-04T08:14:36.689119Z"
    },
    "papermill": {
     "duration": 0.103749,
     "end_time": "2021-04-04T08:14:36.689938",
     "exception": false,
     "start_time": "2021-04-04T08:14:36.586189",
     "status": "completed"
    },
    "tags": []
   },
   "outputs": [
    {
     "data": {
      "text/plain": [
       "0"
      ]
     },
     "execution_count": 381,
     "metadata": {},
     "output_type": "execute_result"
    }
   ],
   "source": [
    "df_train['Years in current job'].isna().sum()"
   ]
  },
  {
   "cell_type": "markdown",
   "metadata": {
    "papermill": {
     "duration": 0.09196,
     "end_time": "2021-04-04T08:14:36.874831",
     "exception": false,
     "start_time": "2021-04-04T08:14:36.782871",
     "status": "completed"
    },
    "tags": []
   },
   "source": [
    "**Months since last delinquent**"
   ]
  },
  {
   "cell_type": "code",
   "execution_count": 382,
   "metadata": {
    "execution": {
     "iopub.execute_input": "2021-04-04T08:14:37.065398Z",
     "iopub.status.busy": "2021-04-04T08:14:37.064717Z",
     "iopub.status.idle": "2021-04-04T08:14:37.067687Z",
     "shell.execute_reply": "2021-04-04T08:14:37.068141Z"
    },
    "papermill": {
     "duration": 0.101673,
     "end_time": "2021-04-04T08:14:37.068338",
     "exception": false,
     "start_time": "2021-04-04T08:14:36.966665",
     "status": "completed"
    },
    "tags": []
   },
   "outputs": [],
   "source": [
    "df_train.drop('Months since last delinquent', axis=1, inplace=True)"
   ]
  },
  {
   "cell_type": "markdown",
   "metadata": {
    "papermill": {
     "duration": 0.090796,
     "end_time": "2021-04-04T08:14:37.252905",
     "exception": false,
     "start_time": "2021-04-04T08:14:37.162109",
     "status": "completed"
    },
    "tags": []
   },
   "source": [
    "**Bankruptcies**"
   ]
  },
  {
   "cell_type": "code",
   "execution_count": 383,
   "metadata": {
    "execution": {
     "iopub.execute_input": "2021-04-04T08:14:37.441906Z",
     "iopub.status.busy": "2021-04-04T08:14:37.441276Z",
     "iopub.status.idle": "2021-04-04T08:14:37.448503Z",
     "shell.execute_reply": "2021-04-04T08:14:37.447861Z"
    },
    "papermill": {
     "duration": 0.101614,
     "end_time": "2021-04-04T08:14:37.448646",
     "exception": false,
     "start_time": "2021-04-04T08:14:37.347032",
     "status": "completed"
    },
    "scrolled": true,
    "tags": []
   },
   "outputs": [
    {
     "data": {
      "text/plain": [
       "0.0"
      ]
     },
     "execution_count": 383,
     "metadata": {},
     "output_type": "execute_result"
    }
   ],
   "source": [
    "df_train['Bankruptcies'].median()"
   ]
  },
  {
   "cell_type": "code",
   "execution_count": 384,
   "metadata": {
    "execution": {
     "iopub.execute_input": "2021-04-04T08:14:37.640914Z",
     "iopub.status.busy": "2021-04-04T08:14:37.640260Z",
     "iopub.status.idle": "2021-04-04T08:14:37.646433Z",
     "shell.execute_reply": "2021-04-04T08:14:37.646912Z"
    },
    "papermill": {
     "duration": 0.105406,
     "end_time": "2021-04-04T08:14:37.647091",
     "exception": false,
     "start_time": "2021-04-04T08:14:37.541685",
     "status": "completed"
    },
    "tags": []
   },
   "outputs": [
    {
     "data": {
      "text/plain": [
       "0"
      ]
     },
     "execution_count": 384,
     "metadata": {},
     "output_type": "execute_result"
    }
   ],
   "source": [
    "df_train['Bankruptcies NaN'] = 0\n",
    "df_train.loc[df_train['Bankruptcies'].isna(), 'Bankruptcies NaN'] = 1\n",
    "df_train['Bankruptcies'].fillna(df_train['Bankruptcies'].median(), inplace = True)\n",
    "df_train['Bankruptcies'].isna().sum()"
   ]
  },
  {
   "cell_type": "markdown",
   "metadata": {
    "papermill": {
     "duration": 0.094769,
     "end_time": "2021-04-04T08:14:37.833519",
     "exception": false,
     "start_time": "2021-04-04T08:14:37.738750",
     "status": "completed"
    },
    "tags": []
   },
   "source": [
    "**Credit Score**"
   ]
  },
  {
   "cell_type": "code",
   "execution_count": 385,
   "metadata": {
    "execution": {
     "iopub.execute_input": "2021-04-04T08:14:38.022030Z",
     "iopub.status.busy": "2021-04-04T08:14:38.020975Z",
     "iopub.status.idle": "2021-04-04T08:14:38.027572Z",
     "shell.execute_reply": "2021-04-04T08:14:38.028060Z"
    },
    "papermill": {
     "duration": 0.10246,
     "end_time": "2021-04-04T08:14:38.028257",
     "exception": false,
     "start_time": "2021-04-04T08:14:37.925797",
     "status": "completed"
    },
    "tags": []
   },
   "outputs": [
    {
     "data": {
      "text/plain": [
       "729.0"
      ]
     },
     "execution_count": 385,
     "metadata": {},
     "output_type": "execute_result"
    }
   ],
   "source": [
    "df_train['Credit Score'].median()"
   ]
  },
  {
   "cell_type": "code",
   "execution_count": 386,
   "metadata": {
    "execution": {
     "iopub.execute_input": "2021-04-04T08:14:38.220337Z",
     "iopub.status.busy": "2021-04-04T08:14:38.219325Z",
     "iopub.status.idle": "2021-04-04T08:14:38.229022Z",
     "shell.execute_reply": "2021-04-04T08:14:38.229498Z"
    },
    "papermill": {
     "duration": 0.105615,
     "end_time": "2021-04-04T08:14:38.229672",
     "exception": false,
     "start_time": "2021-04-04T08:14:38.124057",
     "status": "completed"
    },
    "tags": []
   },
   "outputs": [
    {
     "data": {
      "text/plain": [
       "0"
      ]
     },
     "execution_count": 386,
     "metadata": {},
     "output_type": "execute_result"
    }
   ],
   "source": [
    "df_train['Credit Score NaN'] = 0\n",
    "df_train.loc[df_train['Credit Score'].isna(), 'Credit Score NaN'] = 1\n",
    "df_train['Credit Score'].fillna(df_train['Credit Score'].median(), inplace = True)\n",
    "df_train['Credit Score'].isna().sum()"
   ]
  },
  {
   "cell_type": "code",
   "execution_count": 387,
   "metadata": {
    "execution": {
     "iopub.execute_input": "2021-04-04T08:14:38.422829Z",
     "iopub.status.busy": "2021-04-04T08:14:38.421823Z",
     "iopub.status.idle": "2021-04-04T08:14:38.585208Z",
     "shell.execute_reply": "2021-04-04T08:14:38.584658Z"
    },
    "papermill": {
     "duration": 0.259573,
     "end_time": "2021-04-04T08:14:38.585381",
     "exception": false,
     "start_time": "2021-04-04T08:14:38.325808",
     "status": "completed"
    },
    "tags": []
   },
   "outputs": [
    {
     "data": {
      "text/plain": [
       "<AxesSubplot:>"
      ]
     },
     "execution_count": 387,
     "metadata": {},
     "output_type": "execute_result"
    },
    {
     "data": {
      "image/png": "[encoded data removed]",
      "text/plain": [
       "<Figure size 288x288 with 1 Axes>"
      ]
     },
     "metadata": {
      "needs_background": "light"
     },
     "output_type": "display_data"
    }
   ],
   "source": [
    "df_train['Credit Score'].hist(bins=20, figsize = (4, 4))"
   ]
  },
  {
   "cell_type": "code",
   "execution_count": 388,
   "metadata": {
    "execution": {
     "iopub.execute_input": "2021-04-04T08:14:38.781608Z",
     "iopub.status.busy": "2021-04-04T08:14:38.780869Z",
     "iopub.status.idle": "2021-04-04T08:14:38.788925Z",
     "shell.execute_reply": "2021-04-04T08:14:38.788266Z"
    },
    "papermill": {
     "duration": 0.11031,
     "end_time": "2021-04-04T08:14:38.789078",
     "exception": false,
     "start_time": "2021-04-04T08:14:38.678768",
     "status": "completed"
    },
    "tags": []
   },
   "outputs": [
    {
     "data": {
      "text/plain": [
       "Home Ownership                 0\n",
       "Annual Income                  0\n",
       "Years in current job           0\n",
       "Tax Liens                      0\n",
       "Number of Open Accounts        0\n",
       "Years of Credit History        0\n",
       "Maximum Open Credit            0\n",
       "Number of Credit Problems      0\n",
       "Bankruptcies                   0\n",
       "Purpose                        0\n",
       "Term                           0\n",
       "Current Loan Amount            0\n",
       "Current Credit Balance         0\n",
       "Monthly Debt                   0\n",
       "Credit Score                   0\n",
       "Credit Default                 0\n",
       "Credit Score Outlier           0\n",
       "Current Loan Amount Outlier    0\n",
       "Maximum Open Credit Outlier    0\n",
       "Annual Income NaN              0\n",
       "Years in current job NaN       0\n",
       "Bankruptcies NaN               0\n",
       "Credit Score NaN               0\n",
       "dtype: int64"
      ]
     },
     "execution_count": 388,
     "metadata": {},
     "output_type": "execute_result"
    }
   ],
   "source": [
    "df_train.isna().sum()"
   ]
  },
  {
   "cell_type": "markdown",
   "metadata": {
    "papermill": {
     "duration": 0.094922,
     "end_time": "2021-04-04T08:14:38.977644",
     "exception": false,
     "start_time": "2021-04-04T08:14:38.882722",
     "status": "completed"
    },
    "tags": []
   },
   "source": [
    "### Построение новых признаков"
   ]
  },
  {
   "cell_type": "markdown",
   "metadata": {
    "papermill": {
     "duration": 0.100036,
     "end_time": "2021-04-04T08:14:39.173072",
     "exception": false,
     "start_time": "2021-04-04T08:14:39.073036",
     "status": "completed"
    },
    "tags": []
   },
   "source": [
    "Term - замена на Long Term: 1-да, 0-нет"
   ]
  },
  {
   "cell_type": "code",
   "execution_count": 389,
   "metadata": {
    "execution": {
     "iopub.execute_input": "2021-04-04T08:14:39.377619Z",
     "iopub.status.busy": "2021-04-04T08:14:39.376734Z",
     "iopub.status.idle": "2021-04-04T08:14:39.379973Z",
     "shell.execute_reply": "2021-04-04T08:14:39.379452Z"
    },
    "papermill": {
     "duration": 0.108455,
     "end_time": "2021-04-04T08:14:39.380119",
     "exception": false,
     "start_time": "2021-04-04T08:14:39.271664",
     "status": "completed"
    },
    "tags": []
   },
   "outputs": [],
   "source": [
    "df_train['Long Term'] = df_train['Term'].map({'Long Term': 1, 'Short Term': 0})"
   ]
  },
  {
   "cell_type": "markdown",
   "metadata": {
    "papermill": {
     "duration": 0.093585,
     "end_time": "2021-04-04T08:14:39.568245",
     "exception": false,
     "start_time": "2021-04-04T08:14:39.474660",
     "status": "completed"
    },
    "tags": []
   },
   "source": [
    "Years in current job - сделаем разбивку на категории:<3, 4-6, 7-9, 10+ лет"
   ]
  },
  {
   "cell_type": "code",
   "execution_count": 390,
   "metadata": {
    "execution": {
     "iopub.execute_input": "2021-04-04T08:14:39.768479Z",
     "iopub.status.busy": "2021-04-04T08:14:39.767601Z",
     "iopub.status.idle": "2021-04-04T08:14:39.770894Z",
     "shell.execute_reply": "2021-04-04T08:14:39.770232Z"
    },
    "papermill": {
     "duration": 0.109161,
     "end_time": "2021-04-04T08:14:39.771159",
     "exception": false,
     "start_time": "2021-04-04T08:14:39.661998",
     "status": "completed"
    },
    "tags": []
   },
   "outputs": [],
   "source": [
    "df_train['Years in current job'] = df_train['Years in current job'].map({'< 1 year':0, \n",
    "                                                                       '1 year':0, \n",
    "                                                                       '2 years':0, \n",
    "                                                                       '3 years':0, \n",
    "                                                                       '4 years':1, \n",
    "                                                                       '5 years':1, \n",
    "                                                                       '6 years':1, \n",
    "                                                                       '7 years':2,\n",
    "                                                                       '8 years':2,\n",
    "                                                                       '9 years':2,\n",
    "                                                                       '10+ years':3})"
   ]
  },
  {
   "cell_type": "markdown",
   "metadata": {
    "papermill": {
     "duration": 0.096528,
     "end_time": "2021-04-04T08:14:39.963903",
     "exception": false,
     "start_time": "2021-04-04T08:14:39.867375",
     "status": "completed"
    },
    "tags": []
   },
   "source": [
    "Home ownership"
   ]
  },
  {
   "cell_type": "code",
   "execution_count": 391,
   "metadata": {
    "execution": {
     "iopub.execute_input": "2021-04-04T08:14:40.161174Z",
     "iopub.status.busy": "2021-04-04T08:14:40.160512Z",
     "iopub.status.idle": "2021-04-04T08:14:40.170332Z",
     "shell.execute_reply": "2021-04-04T08:14:40.169676Z"
    },
    "papermill": {
     "duration": 0.111633,
     "end_time": "2021-04-04T08:14:40.170473",
     "exception": false,
     "start_time": "2021-04-04T08:14:40.058840",
     "status": "completed"
    },
    "tags": []
   },
   "outputs": [],
   "source": [
    "df_train = pd.concat([df_train, pd.get_dummies(df_train['Home Ownership'])], axis=1)"
   ]
  },
  {
   "cell_type": "markdown",
   "metadata": {
    "papermill": {
     "duration": 0.095629,
     "end_time": "2021-04-04T08:14:40.360189",
     "exception": false,
     "start_time": "2021-04-04T08:14:40.264560",
     "status": "completed"
    },
    "tags": []
   },
   "source": [
    "Credit Score- Сделаем разбивку рейтинга на категории:\n",
    "    * Excellent: 800 to 850\n",
    "    * Very Good: 740 to 799\n",
    "    * Good: 670 to 739\n",
    "    * Fair: 580 to 669\n",
    "    * Poor: 300 to 579"
   ]
  },
  {
   "cell_type": "code",
   "execution_count": 392,
   "metadata": {
    "execution": {
     "iopub.execute_input": "2021-04-04T08:14:40.558334Z",
     "iopub.status.busy": "2021-04-04T08:14:40.557278Z",
     "iopub.status.idle": "2021-04-04T08:14:40.560837Z",
     "shell.execute_reply": "2021-04-04T08:14:40.559931Z"
    },
    "papermill": {
     "duration": 0.104343,
     "end_time": "2021-04-04T08:14:40.561003",
     "exception": false,
     "start_time": "2021-04-04T08:14:40.456660",
     "status": "completed"
    },
    "tags": []
   },
   "outputs": [],
   "source": [
    "def credit_score_to_cat(X):\n",
    "    bins = [300, 579, 669, 739, 799, 850]\n",
    "    X['Credit Score Cat'] = pd.cut(X['Credit Score'], bins=bins, labels=False)\n",
    "    \n",
    "    X['Credit Score Cat'].fillna(-1, inplace=True)\n",
    "    return X"
   ]
  },
  {
   "cell_type": "code",
   "execution_count": 393,
   "metadata": {
    "execution": {
     "iopub.execute_input": "2021-04-04T08:14:40.759800Z",
     "iopub.status.busy": "2021-04-04T08:14:40.756848Z",
     "iopub.status.idle": "2021-04-04T08:14:40.762891Z",
     "shell.execute_reply": "2021-04-04T08:14:40.762366Z"
    },
    "papermill": {
     "duration": 0.106611,
     "end_time": "2021-04-04T08:14:40.763036",
     "exception": false,
     "start_time": "2021-04-04T08:14:40.656425",
     "status": "completed"
    },
    "tags": []
   },
   "outputs": [],
   "source": [
    "df_train = credit_score_to_cat(df_train)"
   ]
  },
  {
   "cell_type": "markdown",
   "metadata": {
    "papermill": {
     "duration": 0.093096,
     "end_time": "2021-04-04T08:14:40.951553",
     "exception": false,
     "start_time": "2021-04-04T08:14:40.858457",
     "status": "completed"
    },
    "tags": []
   },
   "source": [
    "## **Классы обработки данных**"
   ]
  },
  {
   "cell_type": "markdown",
   "metadata": {
    "papermill": {
     "duration": 0.093286,
     "end_time": "2021-04-04T08:14:41.141682",
     "exception": false,
     "start_time": "2021-04-04T08:14:41.048396",
     "status": "completed"
    },
    "tags": []
   },
   "source": [
    "### **обработка выбросов и пропусков**"
   ]
  },
  {
   "cell_type": "code",
   "execution_count": 394,
   "metadata": {
    "execution": {
     "iopub.execute_input": "2021-04-04T08:14:41.346908Z",
     "iopub.status.busy": "2021-04-04T08:14:41.343807Z",
     "iopub.status.idle": "2021-04-04T08:14:41.350286Z",
     "shell.execute_reply": "2021-04-04T08:14:41.349681Z"
    },
    "papermill": {
     "duration": 0.11575,
     "end_time": "2021-04-04T08:14:41.350427",
     "exception": false,
     "start_time": "2021-04-04T08:14:41.234677",
     "status": "completed"
    },
    "tags": []
   },
   "outputs": [],
   "source": [
    "class DataPreprocessing:\n",
    "    \n",
    "    def __init__(self):\n",
    "        self.medians=None\n",
    "        self.modes = None\n",
    "        self.max_score = 850\n",
    "        self.max_credit = 99999999.0\n",
    "        \n",
    "    def fit(self, X):\n",
    "        \"\"\"Сохранение статистик\"\"\" \n",
    "        X = X.copy()\n",
    "        # Расчет медиан и мод\n",
    "        self.medians = X.median()\n",
    "        self.modes = X.mode().loc[0]\n",
    "                \n",
    "    def transform(self, X):\n",
    "        \"\"\"Трансформация данных\"\"\"\n",
    "\n",
    "        # Credit score\n",
    "        X['Credit Score Outlier'] = 0\n",
    "        X['Credit Score NaN'] = 0\n",
    "        X.loc[X['Credit Score'] > self.max_score, 'Credit Score Outlier'] = 1\n",
    "        X.loc[X['Credit Score'].isna(), 'Credit Score NaN'] = 1\n",
    "\n",
    "        X.loc[X['Credit Score'] > self.max_score, 'Credit Score'] = \\\n",
    "                                X.loc[df_train['Credit Score'] > self.max_score, 'Credit Score'] / 10\n",
    "        X['Credit Score'].fillna(self.medians['Credit Score'], inplace = True)\n",
    "        \n",
    "        # Current Loan Amount\n",
    "        X['Current Loan Amount Outlier'] = 0\n",
    "        X.loc[X['Current Loan Amount'] == self.max_credit, 'Current Loan Amount Outlier'] = 1\n",
    "        X.loc[X['Current Loan Amount'] == self.max_credit, 'Current Loan Amount'] = self.medians['Current Loan Amount']\n",
    "        \n",
    "        # Maximum Open Credit\n",
    "        X['Maximum Open Credit Outlier'] = 0\n",
    "        X.loc[X['Maximum Open Credit'] > max_credit, 'Maximum Open Credit Outlier'] = 1\n",
    "        X.loc[X['Maximum Open Credit'] > max_credit, 'Maximum Open Credit'] = max_credit\n",
    "               \n",
    "        # Annual Income\n",
    "        X['Annual Income NaN'] = 0\n",
    "        X.loc[X['Annual Income'].isna(), 'Annual Income NaN'] = 1\n",
    "        X['Annual Income'].fillna(self.medians['Annual Income'], inplace = True)\n",
    "        \n",
    "        # Years in current job\n",
    "        X['Years in current job NaN'] = 0\n",
    "        X.loc[X['Years in current job'].isna(), 'Years in current job NaN'] = 1\n",
    "        X['Years in current job'].fillna(self.modes['Years in current job'], inplace = True)\n",
    "        \n",
    "        # Months since last delinquent\n",
    "        X.drop('Months since last delinquent', axis=1, inplace=True)\n",
    "        \n",
    "        # Bankruptcies\n",
    "        X['Bankruptcies NaN'] = 0\n",
    "        X.loc[X['Bankruptcies'].isna(), 'Bankruptcies NaN'] = 1\n",
    "        X['Bankruptcies'].fillna(self.medians['Bankruptcies'], inplace = True)\n",
    "        \n",
    "        X.fillna(self.medians, inplace=True)\n",
    "        \n",
    "        return X"
   ]
  },
  {
   "cell_type": "markdown",
   "metadata": {
    "papermill": {
     "duration": 0.093342,
     "end_time": "2021-04-04T08:14:41.539477",
     "exception": false,
     "start_time": "2021-04-04T08:14:41.446135",
     "status": "completed"
    },
    "tags": []
   },
   "source": [
    "### **Генерация новых признаков**"
   ]
  },
  {
   "cell_type": "code",
   "execution_count": 395,
   "metadata": {
    "execution": {
     "iopub.execute_input": "2021-04-04T08:14:41.737433Z",
     "iopub.status.busy": "2021-04-04T08:14:41.736713Z",
     "iopub.status.idle": "2021-04-04T08:14:41.739906Z",
     "shell.execute_reply": "2021-04-04T08:14:41.740545Z"
    },
    "papermill": {
     "duration": 0.107672,
     "end_time": "2021-04-04T08:14:41.740723",
     "exception": false,
     "start_time": "2021-04-04T08:14:41.633051",
     "status": "completed"
    },
    "tags": []
   },
   "outputs": [],
   "source": [
    "class FeatureGenetator():\n",
    "    \"\"\"Генерация новых фич\"\"\"\n",
    "    \n",
    "      \n",
    "    def fit(self, X, y=None):\n",
    "        X = X.copy()\n",
    "                \n",
    "    def transform(self, X):\n",
    "        \n",
    "        # Term\n",
    "        X['Long Term'] = X['Term'].map({'Long Term': 1, 'Short Term': 0})\n",
    "                \n",
    "        # Years in current job\n",
    "        X['Years in current job'] = X['Years in current job'].map({'< 1 year':0, \n",
    "                                                                       '1 year':0, \n",
    "                                                                       '2 years':0, \n",
    "                                                                       '3 years':0, \n",
    "                                                                       '4 years':1, \n",
    "                                                                       '5 years':1, \n",
    "                                                                       '6 years':1, \n",
    "                                                                       '7 years':2,\n",
    "                                                                       '8 years':2,\n",
    "                                                                       '9 years':2,\n",
    "                                                                       '10+ years':3})\n",
    "        # Home Ownership\n",
    "        X = pd.concat([X, pd.get_dummies(X['Home Ownership'])], axis=1)\n",
    "        \n",
    "        # Credit Score\n",
    "        X = self.credit_score_to_cat(X)\n",
    "        \n",
    "        return X\n",
    "    \n",
    "    def credit_score_to_cat(self, X):\n",
    "        bins = [300, 579, 669, 739, 799, 850]\n",
    "        X['Credit Score Cat'] = pd.cut(X['Credit Score'], bins=bins, labels=False)\n",
    "\n",
    "        X['Credit Score Cat'].fillna(-1, inplace=True)\n",
    "        return X"
   ]
  },
  {
   "cell_type": "markdown",
   "metadata": {
    "papermill": {
     "duration": 0.092718,
     "end_time": "2021-04-04T08:14:42.115601",
     "exception": false,
     "start_time": "2021-04-04T08:14:42.022883",
     "status": "completed"
    },
    "tags": []
   },
   "source": [
    "## **Отбор признаков**"
   ]
  },
  {
   "cell_type": "code",
   "execution_count": 396,
   "metadata": {
    "execution": {
     "iopub.execute_input": "2021-04-04T08:14:42.309589Z",
     "iopub.status.busy": "2021-04-04T08:14:42.308832Z",
     "iopub.status.idle": "2021-04-04T08:14:42.311872Z",
     "shell.execute_reply": "2021-04-04T08:14:42.312360Z"
    },
    "papermill": {
     "duration": 0.103525,
     "end_time": "2021-04-04T08:14:42.312551",
     "exception": false,
     "start_time": "2021-04-04T08:14:42.209026",
     "status": "completed"
    },
    "tags": []
   },
   "outputs": [],
   "source": [
    "feature_names = ['Annual Income', \n",
    "                 'Tax Liens', \n",
    "                 'Number of Open Accounts', \n",
    "                 'Years of Credit History', \n",
    "                 'Maximum Open Credit', \n",
    "                 'Number of Credit Problems', \n",
    "#                  'Months since last delinquent', \n",
    "                 'Bankruptcies',\n",
    "                 'Current Loan Amount', \n",
    "                 'Current Credit Balance', \n",
    "                 'Monthly Debt', \n",
    "                 'Credit Score', \n",
    "                 'Years in current job', \n",
    "#                  'Purpose'\n",
    "                ]\n",
    "\n",
    "new_feature_names = [\n",
    "#                          'Home Ownership',\n",
    "#                          'Term',\n",
    "#                          'Credit Score Outlier',\n",
    "#                          'Current Loan Amount Outlier',\n",
    "#                          'Maximum Open Credit Outlier',\n",
    "#                          'Annual Income NaN',\n",
    "#                          'Years in current job NaN',\n",
    "#                          'Bankruptcies NaN',\n",
    "#                          'Credit Score NaN',\n",
    "                         'Long Term',\n",
    "                         'Have Mortgage',\n",
    "                         'Home Mortgage',\n",
    "                         'Own Home',\n",
    "                         'Rent',\n",
    "                         'Credit Score Cat'\n",
    "                    ]\n",
    "\n",
    "target_name = 'Credit Default'"
   ]
  },
  {
   "cell_type": "code",
   "execution_count": 397,
   "metadata": {
    "execution": {
     "iopub.execute_input": "2021-04-04T08:14:42.507562Z",
     "iopub.status.busy": "2021-04-04T08:14:42.506630Z",
     "iopub.status.idle": "2021-04-04T08:14:42.511608Z",
     "shell.execute_reply": "2021-04-04T08:14:42.510960Z"
    },
    "papermill": {
     "duration": 0.10528,
     "end_time": "2021-04-04T08:14:42.511744",
     "exception": false,
     "start_time": "2021-04-04T08:14:42.406464",
     "status": "completed"
    },
    "tags": []
   },
   "outputs": [
    {
     "data": {
      "text/plain": [
       "18"
      ]
     },
     "execution_count": 397,
     "metadata": {},
     "output_type": "execute_result"
    }
   ],
   "source": [
    "len(feature_names)+len(new_feature_names)"
   ]
  },
  {
   "cell_type": "markdown",
   "metadata": {
    "papermill": {
     "duration": 0.096151,
     "end_time": "2021-04-04T08:14:42.703329",
     "exception": false,
     "start_time": "2021-04-04T08:14:42.607178",
     "status": "completed"
    },
    "tags": []
   },
   "source": [
    "## **Разбиение на train и test**"
   ]
  },
  {
   "cell_type": "code",
   "execution_count": 398,
   "metadata": {
    "execution": {
     "iopub.execute_input": "2021-04-04T08:14:42.899540Z",
     "iopub.status.busy": "2021-04-04T08:14:42.898865Z",
     "iopub.status.idle": "2021-04-04T08:14:42.940081Z",
     "shell.execute_reply": "2021-04-04T08:14:42.939398Z"
    },
    "papermill": {
     "duration": 0.14109,
     "end_time": "2021-04-04T08:14:42.940243",
     "exception": false,
     "start_time": "2021-04-04T08:14:42.799153",
     "status": "completed"
    },
    "tags": []
   },
   "outputs": [],
   "source": [
    "df_train = pd.read_csv(TRAIN_DATASET_PATH)\n",
    "df_test = pd.read_csv(TEST_DATASET_PATH)"
   ]
  },
  {
   "cell_type": "code",
   "execution_count": 399,
   "metadata": {
    "execution": {
     "iopub.execute_input": "2021-04-04T08:14:43.138364Z",
     "iopub.status.busy": "2021-04-04T08:14:43.137635Z",
     "iopub.status.idle": "2021-04-04T08:14:43.141118Z",
     "shell.execute_reply": "2021-04-04T08:14:43.140577Z"
    },
    "papermill": {
     "duration": 0.104682,
     "end_time": "2021-04-04T08:14:43.141272",
     "exception": false,
     "start_time": "2021-04-04T08:14:43.036590",
     "status": "completed"
    },
    "tags": []
   },
   "outputs": [],
   "source": [
    "X = df_train.drop(columns=target_name)\n",
    "y = df_train[target_name]"
   ]
  },
  {
   "cell_type": "code",
   "execution_count": 400,
   "metadata": {
    "execution": {
     "iopub.execute_input": "2021-04-04T08:14:43.337487Z",
     "iopub.status.busy": "2021-04-04T08:14:43.336713Z",
     "iopub.status.idle": "2021-04-04T08:14:43.341178Z",
     "shell.execute_reply": "2021-04-04T08:14:43.341768Z"
    },
    "papermill": {
     "duration": 0.105912,
     "end_time": "2021-04-04T08:14:43.341939",
     "exception": false,
     "start_time": "2021-04-04T08:14:43.236027",
     "status": "completed"
    },
    "tags": []
   },
   "outputs": [],
   "source": [
    "X_train, X_valid, y_train, y_valid = train_test_split(X, y, test_size=0.33, shuffle=True, random_state=21)"
   ]
  },
  {
   "cell_type": "code",
   "execution_count": 401,
   "metadata": {
    "execution": {
     "iopub.execute_input": "2021-04-04T08:14:43.535699Z",
     "iopub.status.busy": "2021-04-04T08:14:43.535006Z",
     "iopub.status.idle": "2021-04-04T08:14:43.616555Z",
     "shell.execute_reply": "2021-04-04T08:14:43.615906Z"
    },
    "papermill": {
     "duration": 0.179788,
     "end_time": "2021-04-04T08:14:43.616732",
     "exception": false,
     "start_time": "2021-04-04T08:14:43.436944",
     "status": "completed"
    },
    "tags": []
   },
   "outputs": [],
   "source": [
    "preprocessor = DataPreprocessing()\n",
    "preprocessor.fit(X_train)\n",
    "\n",
    "X_train = preprocessor.transform(X_train)\n",
    "X_valid = preprocessor.transform(X_valid)\n",
    "df_test = preprocessor.transform(df_test)"
   ]
  },
  {
   "cell_type": "code",
   "execution_count": 402,
   "metadata": {
    "execution": {
     "iopub.execute_input": "2021-04-04T08:14:43.816183Z",
     "iopub.status.busy": "2021-04-04T08:14:43.815519Z",
     "iopub.status.idle": "2021-04-04T08:14:43.818782Z",
     "shell.execute_reply": "2021-04-04T08:14:43.819249Z"
    },
    "papermill": {
     "duration": 0.10316,
     "end_time": "2021-04-04T08:14:43.819434",
     "exception": false,
     "start_time": "2021-04-04T08:14:43.716274",
     "status": "completed"
    },
    "scrolled": true,
    "tags": []
   },
   "outputs": [
    {
     "data": {
      "text/plain": [
       "((5025, 22), (2475, 22), (2500, 22))"
      ]
     },
     "execution_count": 402,
     "metadata": {},
     "output_type": "execute_result"
    }
   ],
   "source": [
    "X_train.shape, X_valid.shape, df_test.shape"
   ]
  },
  {
   "cell_type": "code",
   "execution_count": 403,
   "metadata": {
    "execution": {
     "iopub.execute_input": "2021-04-04T08:14:44.015150Z",
     "iopub.status.busy": "2021-04-04T08:14:44.014505Z",
     "iopub.status.idle": "2021-04-04T08:14:44.044441Z",
     "shell.execute_reply": "2021-04-04T08:14:44.044991Z"
    },
    "papermill": {
     "duration": 0.130533,
     "end_time": "2021-04-04T08:14:44.045167",
     "exception": false,
     "start_time": "2021-04-04T08:14:43.914634",
     "status": "completed"
    },
    "tags": []
   },
   "outputs": [],
   "source": [
    "features_gen = FeatureGenetator()\n",
    "features_gen.fit(X_train, y_train)\n",
    "\n",
    "X_train = features_gen.transform(X_train)\n",
    "X_valid = features_gen.transform(X_valid)\n",
    "df_test = features_gen.transform(df_test)"
   ]
  },
  {
   "cell_type": "code",
   "execution_count": 404,
   "metadata": {
    "execution": {
     "iopub.execute_input": "2021-04-04T08:14:44.244575Z",
     "iopub.status.busy": "2021-04-04T08:14:44.241434Z",
     "iopub.status.idle": "2021-04-04T08:14:44.249855Z",
     "shell.execute_reply": "2021-04-04T08:14:44.249291Z"
    },
    "papermill": {
     "duration": 0.109069,
     "end_time": "2021-04-04T08:14:44.249998",
     "exception": false,
     "start_time": "2021-04-04T08:14:44.140929",
     "status": "completed"
    },
    "scrolled": true,
    "tags": []
   },
   "outputs": [
    {
     "data": {
      "text/plain": [
       "((5025, 28), (2475, 28), (2500, 28))"
      ]
     },
     "execution_count": 404,
     "metadata": {},
     "output_type": "execute_result"
    }
   ],
   "source": [
    "X_train.shape, X_valid.shape, df_test.shape"
   ]
  },
  {
   "cell_type": "code",
   "execution_count": 405,
   "metadata": {
    "execution": {
     "iopub.execute_input": "2021-04-04T08:14:44.453595Z",
     "iopub.status.busy": "2021-04-04T08:14:44.452483Z",
     "iopub.status.idle": "2021-04-04T08:14:44.461606Z",
     "shell.execute_reply": "2021-04-04T08:14:44.462106Z"
    },
    "papermill": {
     "duration": 0.111279,
     "end_time": "2021-04-04T08:14:44.462318",
     "exception": false,
     "start_time": "2021-04-04T08:14:44.351039",
     "status": "completed"
    },
    "tags": []
   },
   "outputs": [],
   "source": [
    "\"\"\" во всех датафреймах оставляем только отобранные в разделе 5 признаки \"\"\"\n",
    "X_train = X_train[feature_names + new_feature_names]\n",
    "X_valid = X_valid[feature_names + new_feature_names]\n",
    "df_test = df_test[feature_names + new_feature_names]"
   ]
  },
  {
   "cell_type": "code",
   "execution_count": 406,
   "metadata": {
    "execution": {
     "iopub.execute_input": "2021-04-04T08:14:44.681358Z",
     "iopub.status.busy": "2021-04-04T08:14:44.680333Z",
     "iopub.status.idle": "2021-04-04T08:14:44.687848Z",
     "shell.execute_reply": "2021-04-04T08:14:44.688522Z"
    },
    "papermill": {
     "duration": 0.127337,
     "end_time": "2021-04-04T08:14:44.688719",
     "exception": false,
     "start_time": "2021-04-04T08:14:44.561382",
     "status": "completed"
    },
    "scrolled": true,
    "tags": []
   },
   "outputs": [
    {
     "data": {
      "text/plain": [
       "((5025, 18), (2475, 18), (2500, 18))"
      ]
     },
     "execution_count": 406,
     "metadata": {},
     "output_type": "execute_result"
    }
   ],
   "source": [
    "X_train.shape, X_valid.shape, df_test.shape"
   ]
  },
  {
   "cell_type": "code",
   "execution_count": 407,
   "metadata": {
    "execution": {
     "iopub.execute_input": "2021-04-04T08:14:44.889762Z",
     "iopub.status.busy": "2021-04-04T08:14:44.888987Z",
     "iopub.status.idle": "2021-04-04T08:14:44.900543Z",
     "shell.execute_reply": "2021-04-04T08:14:44.900006Z"
    },
    "papermill": {
     "duration": 0.113097,
     "end_time": "2021-04-04T08:14:44.900687",
     "exception": false,
     "start_time": "2021-04-04T08:14:44.787590",
     "status": "completed"
    },
    "tags": []
   },
   "outputs": [
    {
     "data": {
      "text/plain": [
       "(0, 0, 0)"
      ]
     },
     "execution_count": 407,
     "metadata": {},
     "output_type": "execute_result"
    }
   ],
   "source": [
    "X_train.isna().sum().sum(), X_valid.isna().sum().sum(), df_test.isna().sum().sum()"
   ]
  },
  {
   "cell_type": "code",
   "execution_count": 408,
   "metadata": {
    "execution": {
     "iopub.execute_input": "2021-04-04T08:14:45.101086Z",
     "iopub.status.busy": "2021-04-04T08:14:45.100012Z",
     "iopub.status.idle": "2021-04-04T08:14:45.108208Z",
     "shell.execute_reply": "2021-04-04T08:14:45.108745Z"
    },
    "papermill": {
     "duration": 0.110984,
     "end_time": "2021-04-04T08:14:45.108921",
     "exception": false,
     "start_time": "2021-04-04T08:14:44.997937",
     "status": "completed"
    },
    "tags": []
   },
   "outputs": [
    {
     "data": {
      "text/plain": [
       "Annual Income                0\n",
       "Tax Liens                    0\n",
       "Number of Open Accounts      0\n",
       "Years of Credit History      0\n",
       "Maximum Open Credit          0\n",
       "Number of Credit Problems    0\n",
       "Bankruptcies                 0\n",
       "Current Loan Amount          0\n",
       "Current Credit Balance       0\n",
       "Monthly Debt                 0\n",
       "Credit Score                 0\n",
       "Years in current job         0\n",
       "Long Term                    0\n",
       "Have Mortgage                0\n",
       "Home Mortgage                0\n",
       "Own Home                     0\n",
       "Rent                         0\n",
       "Credit Score Cat             0\n",
       "dtype: int64"
      ]
     },
     "execution_count": 408,
     "metadata": {},
     "output_type": "execute_result"
    }
   ],
   "source": [
    "X_train.isna().sum()"
   ]
  },
  {
   "cell_type": "markdown",
   "metadata": {
    "papermill": {
     "duration": 0.098827,
     "end_time": "2021-04-04T08:14:45.304466",
     "exception": false,
     "start_time": "2021-04-04T08:14:45.205639",
     "status": "completed"
    },
    "tags": []
   },
   "source": [
    "## **Построение модели**"
   ]
  },
  {
   "cell_type": "code",
   "execution_count": 409,
   "metadata": {
    "execution": {
     "iopub.execute_input": "2021-04-04T08:14:45.505067Z",
     "iopub.status.busy": "2021-04-04T08:14:45.503996Z",
     "iopub.status.idle": "2021-04-04T08:14:45.513255Z",
     "shell.execute_reply": "2021-04-04T08:14:45.512545Z"
    },
    "papermill": {
     "duration": 0.109916,
     "end_time": "2021-04-04T08:14:45.513409",
     "exception": false,
     "start_time": "2021-04-04T08:14:45.403493",
     "status": "completed"
    },
    "tags": []
   },
   "outputs": [
    {
     "data": {
      "text/plain": [
       "2.5537482319660536"
      ]
     },
     "execution_count": 409,
     "metadata": {},
     "output_type": "execute_result"
    }
   ],
   "source": [
    "disbalance = y_train.value_counts()[0] / y_train.value_counts()[1]\n",
    "disbalance"
   ]
  },
  {
   "cell_type": "code",
   "execution_count": 410,
   "metadata": {
    "execution": {
     "iopub.execute_input": "2021-04-04T08:14:45.741114Z",
     "iopub.status.busy": "2021-04-04T08:14:45.726871Z",
     "iopub.status.idle": "2021-04-04T08:14:46.025982Z",
     "shell.execute_reply": "2021-04-04T08:14:46.025208Z"
    },
    "papermill": {
     "duration": 0.416776,
     "end_time": "2021-04-04T08:14:46.026264",
     "exception": false,
     "start_time": "2021-04-04T08:14:45.609488",
     "status": "completed"
    },
    "tags": []
   },
   "outputs": [
    {
     "data": {
      "application/vnd.jupyter.widget-view+json": {
       "model_id": "2eaa4f077e6347c9adaeb508a0eb05c0",
       "version_major": 2,
       "version_minor": 0
      },
      "text/plain": [
       "MetricVisualizer(layout=Layout(align_self='stretch', height='500px'))"
      ]
     },
     "metadata": {},
     "output_type": "display_data"
    },
    {
     "data": {
      "text/plain": [
       "<catboost.core.CatBoostClassifier at 0x7fd68901f160>"
      ]
     },
     "execution_count": 410,
     "metadata": {},
     "output_type": "execute_result"
    }
   ],
   "source": [
    "model_catb = catb.CatBoostClassifier(\n",
    "                                     silent=True, \n",
    "                                     random_state=21,\n",
    "                                     class_weights=[1, disbalance],\n",
    "                                     eval_metric='F1',\n",
    "                                     early_stopping_rounds=20,\n",
    "                                     use_best_model=True,\n",
    "                                     custom_metric=['Precision', 'Recall'],\n",
    "                                     iterations=50,\n",
    "                                     max_depth=5,\n",
    "                                     min_data_in_leaf=5\n",
    "                                    )\n",
    "\n",
    "model_catb.fit(X_train, y_train, plot=True, eval_set=(X_valid, y_valid))"
   ]
  },
  {
   "cell_type": "code",
   "execution_count": 411,
   "metadata": {
    "execution": {
     "iopub.execute_input": "2021-04-04T08:14:46.332137Z",
     "iopub.status.busy": "2021-04-04T08:14:46.331459Z",
     "iopub.status.idle": "2021-04-04T08:14:46.404517Z",
     "shell.execute_reply": "2021-04-04T08:14:46.405489Z"
    },
    "papermill": {
     "duration": 0.229518,
     "end_time": "2021-04-04T08:14:46.405751",
     "exception": false,
     "start_time": "2021-04-04T08:14:46.176233",
     "status": "completed"
    },
    "tags": []
   },
   "outputs": [
    {
     "name": "stdout",
     "output_type": "stream",
     "text": [
      "TRAIN\n",
      " 0.531\n",
      "TEST\n",
      " 0.513\n",
      "TRAIN\n",
      "\n",
      "              precision    recall  f1-score   support\n",
      "\n",
      "           0       0.85      0.59      0.70      3611\n",
      "           1       0.42      0.74      0.53      1414\n",
      "\n",
      "    accuracy                           0.63      5025\n",
      "   macro avg       0.63      0.66      0.62      5025\n",
      "weighted avg       0.73      0.63      0.65      5025\n",
      "\n",
      "VALID\n",
      "\n",
      "              precision    recall  f1-score   support\n",
      "\n",
      "           0       0.84      0.58      0.68      1776\n",
      "           1       0.40      0.72      0.51       699\n",
      "\n",
      "    accuracy                           0.62      2475\n",
      "   macro avg       0.62      0.65      0.60      2475\n",
      "weighted avg       0.71      0.62      0.63      2475\n",
      "\n",
      "CONFUSION MATRIX\n",
      "\n",
      "col_0              0    1\n",
      "Credit Default           \n",
      "0               1022  754\n",
      "1                198  501\n"
     ]
    }
   ],
   "source": [
    "evaluate_preds(model_catb, X_train, X_valid, y_train, y_valid)"
   ]
  },
  {
   "cell_type": "markdown",
   "metadata": {
    "papermill": {
     "duration": 0.122569,
     "end_time": "2021-04-04T08:14:46.652317",
     "exception": false,
     "start_time": "2021-04-04T08:14:46.529748",
     "status": "completed"
    },
    "tags": []
   },
   "source": [
    "**Важность признаков**"
   ]
  },
  {
   "cell_type": "code",
   "execution_count": 412,
   "metadata": {
    "execution": {
     "iopub.execute_input": "2021-04-04T08:14:46.915065Z",
     "iopub.status.busy": "2021-04-04T08:14:46.914014Z",
     "iopub.status.idle": "2021-04-04T08:14:46.918037Z",
     "shell.execute_reply": "2021-04-04T08:14:46.918598Z"
    },
    "papermill": {
     "duration": 0.143694,
     "end_time": "2021-04-04T08:14:46.918763",
     "exception": false,
     "start_time": "2021-04-04T08:14:46.775069",
     "status": "completed"
    },
    "tags": []
   },
   "outputs": [
    {
     "data": {
      "text/html": [
       "<div>\n",
       "<style scoped>\n",
       "    .dataframe tbody tr th:only-of-type {\n",
       "        vertical-align: middle;\n",
       "    }\n",
       "\n",
       "    .dataframe tbody tr th {\n",
       "        vertical-align: top;\n",
       "    }\n",
       "\n",
       "    .dataframe thead th {\n",
       "        text-align: right;\n",
       "    }\n",
       "</style>\n",
       "<table border=\"1\" class=\"dataframe\">\n",
       "  <thead>\n",
       "    <tr style=\"text-align: right;\">\n",
       "      <th></th>\n",
       "      <th>feature_name</th>\n",
       "      <th>importance</th>\n",
       "    </tr>\n",
       "  </thead>\n",
       "  <tbody>\n",
       "    <tr>\n",
       "      <th>7</th>\n",
       "      <td>Current Loan Amount</td>\n",
       "      <td>45.893837</td>\n",
       "    </tr>\n",
       "    <tr>\n",
       "      <th>0</th>\n",
       "      <td>Annual Income</td>\n",
       "      <td>12.048257</td>\n",
       "    </tr>\n",
       "    <tr>\n",
       "      <th>12</th>\n",
       "      <td>Long Term</td>\n",
       "      <td>12.016808</td>\n",
       "    </tr>\n",
       "    <tr>\n",
       "      <th>17</th>\n",
       "      <td>Credit Score Cat</td>\n",
       "      <td>8.520758</td>\n",
       "    </tr>\n",
       "    <tr>\n",
       "      <th>4</th>\n",
       "      <td>Maximum Open Credit</td>\n",
       "      <td>4.458367</td>\n",
       "    </tr>\n",
       "    <tr>\n",
       "      <th>10</th>\n",
       "      <td>Credit Score</td>\n",
       "      <td>3.974543</td>\n",
       "    </tr>\n",
       "    <tr>\n",
       "      <th>9</th>\n",
       "      <td>Monthly Debt</td>\n",
       "      <td>3.774783</td>\n",
       "    </tr>\n",
       "    <tr>\n",
       "      <th>14</th>\n",
       "      <td>Home Mortgage</td>\n",
       "      <td>2.281552</td>\n",
       "    </tr>\n",
       "    <tr>\n",
       "      <th>3</th>\n",
       "      <td>Years of Credit History</td>\n",
       "      <td>2.162574</td>\n",
       "    </tr>\n",
       "    <tr>\n",
       "      <th>8</th>\n",
       "      <td>Current Credit Balance</td>\n",
       "      <td>1.411648</td>\n",
       "    </tr>\n",
       "    <tr>\n",
       "      <th>2</th>\n",
       "      <td>Number of Open Accounts</td>\n",
       "      <td>1.130746</td>\n",
       "    </tr>\n",
       "    <tr>\n",
       "      <th>5</th>\n",
       "      <td>Number of Credit Problems</td>\n",
       "      <td>0.726095</td>\n",
       "    </tr>\n",
       "    <tr>\n",
       "      <th>16</th>\n",
       "      <td>Rent</td>\n",
       "      <td>0.565218</td>\n",
       "    </tr>\n",
       "    <tr>\n",
       "      <th>11</th>\n",
       "      <td>Years in current job</td>\n",
       "      <td>0.461838</td>\n",
       "    </tr>\n",
       "    <tr>\n",
       "      <th>15</th>\n",
       "      <td>Own Home</td>\n",
       "      <td>0.430126</td>\n",
       "    </tr>\n",
       "    <tr>\n",
       "      <th>1</th>\n",
       "      <td>Tax Liens</td>\n",
       "      <td>0.139591</td>\n",
       "    </tr>\n",
       "    <tr>\n",
       "      <th>6</th>\n",
       "      <td>Bankruptcies</td>\n",
       "      <td>0.003259</td>\n",
       "    </tr>\n",
       "    <tr>\n",
       "      <th>13</th>\n",
       "      <td>Have Mortgage</td>\n",
       "      <td>0.000000</td>\n",
       "    </tr>\n",
       "  </tbody>\n",
       "</table>\n",
       "</div>"
      ],
      "text/plain": [
       "                 feature_name  importance\n",
       "7         Current Loan Amount   45.893837\n",
       "0               Annual Income   12.048257\n",
       "12                  Long Term   12.016808\n",
       "17           Credit Score Cat    8.520758\n",
       "4         Maximum Open Credit    4.458367\n",
       "10               Credit Score    3.974543\n",
       "9                Monthly Debt    3.774783\n",
       "14              Home Mortgage    2.281552\n",
       "3     Years of Credit History    2.162574\n",
       "8      Current Credit Balance    1.411648\n",
       "2     Number of Open Accounts    1.130746\n",
       "5   Number of Credit Problems    0.726095\n",
       "16                       Rent    0.565218\n",
       "11       Years in current job    0.461838\n",
       "15                   Own Home    0.430126\n",
       "1                   Tax Liens    0.139591\n",
       "6                Bankruptcies    0.003259\n",
       "13              Have Mortgage    0.000000"
      ]
     },
     "execution_count": 412,
     "metadata": {},
     "output_type": "execute_result"
    }
   ],
   "source": [
    "feature_importances = pd.DataFrame(zip(X_train.columns, model_catb.feature_importances_), \n",
    "                                   columns=['feature_name', 'importance'])\n",
    "\n",
    "feature_importances.sort_values(by='importance', ascending=False)"
   ]
  },
  {
   "cell_type": "markdown",
   "metadata": {
    "papermill": {
     "duration": 0.120965,
     "end_time": "2021-04-04T08:14:47.162084",
     "exception": false,
     "start_time": "2021-04-04T08:14:47.041119",
     "status": "completed"
    },
    "tags": []
   },
   "source": [
    "### **Прогнозирование на тестовом датасете**"
   ]
  },
  {
   "cell_type": "code",
   "execution_count": 413,
   "metadata": {
    "execution": {
     "iopub.execute_input": "2021-04-04T08:14:47.408343Z",
     "iopub.status.busy": "2021-04-04T08:14:47.406794Z",
     "iopub.status.idle": "2021-04-04T08:14:47.413437Z",
     "shell.execute_reply": "2021-04-04T08:14:47.414084Z"
    },
    "papermill": {
     "duration": 0.132151,
     "end_time": "2021-04-04T08:14:47.414277",
     "exception": false,
     "start_time": "2021-04-04T08:14:47.282126",
     "status": "completed"
    },
    "tags": []
   },
   "outputs": [
    {
     "data": {
      "text/plain": [
       "(2500, 18)"
      ]
     },
     "execution_count": 413,
     "metadata": {},
     "output_type": "execute_result"
    }
   ],
   "source": [
    "df_test.shape"
   ]
  },
  {
   "cell_type": "code",
   "execution_count": 414,
   "metadata": {
    "execution": {
     "iopub.execute_input": "2021-04-04T08:14:47.938290Z",
     "iopub.status.busy": "2021-04-04T08:14:47.937317Z",
     "iopub.status.idle": "2021-04-04T08:14:47.948464Z",
     "shell.execute_reply": "2021-04-04T08:14:47.947742Z"
    },
    "papermill": {
     "duration": 0.137189,
     "end_time": "2021-04-04T08:14:47.948611",
     "exception": false,
     "start_time": "2021-04-04T08:14:47.811422",
     "status": "completed"
    },
    "tags": []
   },
   "outputs": [
    {
     "data": {
      "text/plain": [
       "array([1, 1, 0, ..., 1, 0, 1])"
      ]
     },
     "execution_count": 414,
     "metadata": {},
     "output_type": "execute_result"
    }
   ],
   "source": [
    "predictions = model_catb.predict(df_test)\n",
    "predictions"
   ]
  },
  {
   "cell_type": "code",
   "execution_count": 415,
   "metadata": {
    "execution": {
     "iopub.execute_input": "2021-04-04T08:14:48.202301Z",
     "iopub.status.busy": "2021-04-04T08:14:48.201133Z",
     "iopub.status.idle": "2021-04-04T08:14:48.206646Z",
     "shell.execute_reply": "2021-04-04T08:14:48.205841Z"
    },
    "papermill": {
     "duration": 0.135615,
     "end_time": "2021-04-04T08:14:48.206799",
     "exception": false,
     "start_time": "2021-04-04T08:14:48.071184",
     "status": "completed"
    },
    "tags": []
   },
   "outputs": [
    {
     "data": {
      "text/plain": [
       "2500"
      ]
     },
     "execution_count": 415,
     "metadata": {},
     "output_type": "execute_result"
    }
   ],
   "source": [
    "len(predictions)"
   ]
  },
  {
   "cell_type": "code",
   "execution_count": 416,
   "metadata": {},
   "outputs": [],
   "source": [
    "result = pd.DataFrame()\n",
    "result['Id'] = df_test.index\n",
    "result['Credit Default'] = pd.Series(predictions)"
   ]
  },
  {
   "cell_type": "code",
   "execution_count": 343,
   "metadata": {
    "execution": {
     "iopub.execute_input": "2021-04-04T08:14:48.722740Z",
     "iopub.status.busy": "2021-04-04T08:14:48.722007Z",
     "iopub.status.idle": "2021-04-04T08:14:48.734370Z",
     "shell.execute_reply": "2021-04-04T08:14:48.733678Z"
    },
    "papermill": {
     "duration": 0.140964,
     "end_time": "2021-04-04T08:14:48.734513",
     "exception": false,
     "start_time": "2021-04-04T08:14:48.593549",
     "status": "completed"
    },
    "tags": []
   },
   "outputs": [],
   "source": [
    "result.to_csv('EKrol_predictions.csv', index=False)"
   ]
  }
 ],
 "metadata": {
  "kernelspec": {
   "display_name": "Python 3",
   "language": "python",
   "name": "python3"
  },
  "language_info": {
   "codemirror_mode": {
    "name": "ipython",
    "version": 3
   },
   "file_extension": ".py",
   "mimetype": "text/x-python",
   "name": "python",
   "nbconvert_exporter": "python",
   "pygments_lexer": "ipython3",
   "version": "3.8.5"
  }
 },
 "nbformat": 4,
 "nbformat_minor": 4
}
